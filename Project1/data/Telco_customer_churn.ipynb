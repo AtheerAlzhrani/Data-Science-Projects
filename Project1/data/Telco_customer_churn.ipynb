{
  "nbformat": 4,
  "nbformat_minor": 0,
  "metadata": {
    "colab": {
      "provenance": []
    },
    "kernelspec": {
      "name": "python3",
      "display_name": "Python 3"
    },
    "language_info": {
      "name": "python"
    }
  },
  "cells": [
    {
      "cell_type": "markdown",
      "source": [
        "##**About The Dataset**\n",
        "- The Telco customer churn data contains information about a company that provides phone and Internet services to over 7000 customers in California.\n",
        "\n",
        "- The raw data contains 7043 rows (customers) and 21 columns (features).\n",
        "\n",
        "##**Column Metadata:**\n",
        "\n",
        "\n",
        "**customerID:**\n",
        "Customer ID\n",
        "\n",
        "**gender:**\n",
        "Whether the customer is a male or a female\n",
        "\n",
        "**SeniorCitizen:**\n",
        "Whether the customer is a senior citizen or not (1, 0)\n",
        "\n",
        "**Partner:**\n",
        "Whether the customer has a partner or not (Yes, No)\n",
        "\n",
        "**Dependents:**\n",
        "Whether the customer has dependents or not (Yes, No)\n",
        "\n",
        "**tenure:**\n",
        "Number of months the customer has stayed with the company\n",
        "\n",
        "**PhoneService:**\n",
        "Whether the customer has a phone service or not (Yes, No)\n",
        "\n",
        "**MultipleLines:**\n",
        "Whether the customer has multiple lines or not (Yes, No, No phone service)\n",
        "\n",
        "**InternetService:**\n",
        "Customer’s internet service provider (DSL, Fiber optic, No)\n",
        "\n",
        "**OnlineSecurity:**\n",
        "Whether the customer has online security or not (Yes, No, No internet service)"
      ],
      "metadata": {
        "id": "NjtpSTqMNhwv"
      }
    },
    {
      "cell_type": "markdown",
      "source": [
        " ## Import the necessary libraries."
      ],
      "metadata": {
        "id": "8CpzcOClUWHF"
      }
    },
    {
      "cell_type": "code",
      "source": [
        "!pip install pyspark"
      ],
      "metadata": {
        "colab": {
          "base_uri": "https://localhost:8080/"
        },
        "id": "jBHdoD0dhJL2",
        "outputId": "c7474cde-3e37-4964-cc62-df0be4d367e0"
      },
      "execution_count": 1,
      "outputs": [
        {
          "output_type": "stream",
          "name": "stdout",
          "text": [
            "Requirement already satisfied: pyspark in /usr/local/lib/python3.10/dist-packages (3.5.2)\n",
            "Requirement already satisfied: py4j==0.10.9.7 in /usr/local/lib/python3.10/dist-packages (from pyspark) (0.10.9.7)\n"
          ]
        }
      ]
    },
    {
      "cell_type": "code",
      "execution_count": 2,
      "metadata": {
        "id": "ey3xqtILfxYB"
      },
      "outputs": [],
      "source": [
        "# import libraries\n",
        "import pyspark\n",
        "from pyspark import SparkConf\n",
        "from pyspark.sql import SparkSession\n",
        "from pyspark.sql.functions import udf\n",
        "from pyspark.sql.types import StringType\n",
        "from pyspark.sql.types import IntegerType\n",
        "from pyspark.sql.functions import isnan, count, when, col, desc, udf, col, sort_array, asc, avg\n",
        "from pyspark.sql.functions import sum as Fsum\n",
        "from pyspark.sql.window import Window\n",
        "from pyspark.sql import Row\n",
        "from pyspark.sql import functions as F\n",
        "from pyspark.sql.functions import *\n",
        "\n",
        "from pyspark.ml import Pipeline\n",
        "from pyspark.ml.classification import LogisticRegression, RandomForestClassifier, GBTClassifier, LinearSVC, NaiveBayes\n",
        "from pyspark.ml.evaluation import MulticlassClassificationEvaluator\n",
        "from pyspark.ml.feature import CountVectorizer, IDF, PCA, RegexTokenizer, VectorAssembler, Normalizer, StandardScaler\n",
        "from pyspark.ml.regression import LinearRegression\n",
        "from pyspark.ml.tuning import CrossValidator, ParamGridBuilder\n",
        "\n",
        "import datetime\n",
        "import time\n",
        "\n",
        "import pandas as pd\n",
        "import numpy as np\n",
        "import re\n",
        "%matplotlib inline\n",
        "import matplotlib.pyplot as plt\n",
        "import seaborn as sns\n",
        "sns.set()"
      ]
    },
    {
      "cell_type": "markdown",
      "source": [
        "- Create a Spark Session."
      ],
      "metadata": {
        "id": "SAGF3AijUepT"
      }
    },
    {
      "cell_type": "code",
      "source": [
        "# create a Spark session\n",
        "spark = SparkSession \\\n",
        "    .builder \\\n",
        "    .appName(\"Sparkify Project\") \\\n",
        "    .getOrCreate()"
      ],
      "metadata": {
        "id": "_zlrLFGThsam"
      },
      "execution_count": 3,
      "outputs": []
    },
    {
      "cell_type": "code",
      "source": [
        "spark.sparkContext.getConf().getAll()"
      ],
      "metadata": {
        "colab": {
          "base_uri": "https://localhost:8080/"
        },
        "id": "I9-dQqyGhz6R",
        "outputId": "038fa8db-7877-4073-8b1e-0cbb57af92d0"
      },
      "execution_count": 4,
      "outputs": [
        {
          "output_type": "execute_result",
          "data": {
            "text/plain": [
              "[('spark.app.startTime', '1724603341767'),\n",
              " ('spark.driver.extraJavaOptions',\n",
              "  '-Djava.net.preferIPv6Addresses=false -XX:+IgnoreUnrecognizedVMOptions --add-opens=java.base/java.lang=ALL-UNNAMED --add-opens=java.base/java.lang.invoke=ALL-UNNAMED --add-opens=java.base/java.lang.reflect=ALL-UNNAMED --add-opens=java.base/java.io=ALL-UNNAMED --add-opens=java.base/java.net=ALL-UNNAMED --add-opens=java.base/java.nio=ALL-UNNAMED --add-opens=java.base/java.util=ALL-UNNAMED --add-opens=java.base/java.util.concurrent=ALL-UNNAMED --add-opens=java.base/java.util.concurrent.atomic=ALL-UNNAMED --add-opens=java.base/jdk.internal.ref=ALL-UNNAMED --add-opens=java.base/sun.nio.ch=ALL-UNNAMED --add-opens=java.base/sun.nio.cs=ALL-UNNAMED --add-opens=java.base/sun.security.action=ALL-UNNAMED --add-opens=java.base/sun.util.calendar=ALL-UNNAMED --add-opens=java.security.jgss/sun.security.krb5=ALL-UNNAMED -Djdk.reflect.useDirectMethodHandle=false'),\n",
              " ('spark.driver.host', '5b91d0f6f1aa'),\n",
              " ('spark.executor.id', 'driver'),\n",
              " ('spark.app.id', 'local-1724603345693'),\n",
              " ('spark.driver.port', '37437'),\n",
              " ('spark.rdd.compress', 'True'),\n",
              " ('spark.executor.extraJavaOptions',\n",
              "  '-Djava.net.preferIPv6Addresses=false -XX:+IgnoreUnrecognizedVMOptions --add-opens=java.base/java.lang=ALL-UNNAMED --add-opens=java.base/java.lang.invoke=ALL-UNNAMED --add-opens=java.base/java.lang.reflect=ALL-UNNAMED --add-opens=java.base/java.io=ALL-UNNAMED --add-opens=java.base/java.net=ALL-UNNAMED --add-opens=java.base/java.nio=ALL-UNNAMED --add-opens=java.base/java.util=ALL-UNNAMED --add-opens=java.base/java.util.concurrent=ALL-UNNAMED --add-opens=java.base/java.util.concurrent.atomic=ALL-UNNAMED --add-opens=java.base/jdk.internal.ref=ALL-UNNAMED --add-opens=java.base/sun.nio.ch=ALL-UNNAMED --add-opens=java.base/sun.nio.cs=ALL-UNNAMED --add-opens=java.base/sun.security.action=ALL-UNNAMED --add-opens=java.base/sun.util.calendar=ALL-UNNAMED --add-opens=java.security.jgss/sun.security.krb5=ALL-UNNAMED -Djdk.reflect.useDirectMethodHandle=false'),\n",
              " ('spark.serializer.objectStreamReset', '100'),\n",
              " ('spark.master', 'local[*]'),\n",
              " ('spark.submit.pyFiles', ''),\n",
              " ('spark.submit.deployMode', 'client'),\n",
              " ('spark.app.submitTime', '1724603341287'),\n",
              " ('spark.ui.showConsoleProgress', 'true'),\n",
              " ('spark.app.name', 'Sparkify Project')]"
            ]
          },
          "metadata": {},
          "execution_count": 4
        }
      ]
    },
    {
      "cell_type": "markdown",
      "source": [
        "## Load and Clean The Dataset"
      ],
      "metadata": {
        "id": "VobJAni2UnVJ"
      }
    },
    {
      "cell_type": "code",
      "source": [
        "df_spark = spark.read.csv(\"WA_Fn-UseC_-Telco-Customer-Churn.csv\", header=True, inferSchema=True)"
      ],
      "metadata": {
        "id": "uC3j2wXTh64E"
      },
      "execution_count": 5,
      "outputs": []
    },
    {
      "cell_type": "code",
      "source": [
        "df_spark.printSchema()"
      ],
      "metadata": {
        "colab": {
          "base_uri": "https://localhost:8080/"
        },
        "id": "4VkMC7VmiZfJ",
        "outputId": "7ca5c40f-5232-4799-ce1b-75199298913e"
      },
      "execution_count": 6,
      "outputs": [
        {
          "output_type": "stream",
          "name": "stdout",
          "text": [
            "root\n",
            " |-- customerID: string (nullable = true)\n",
            " |-- gender: string (nullable = true)\n",
            " |-- SeniorCitizen: integer (nullable = true)\n",
            " |-- Partner: string (nullable = true)\n",
            " |-- Dependents: string (nullable = true)\n",
            " |-- tenure: integer (nullable = true)\n",
            " |-- PhoneService: string (nullable = true)\n",
            " |-- MultipleLines: string (nullable = true)\n",
            " |-- InternetService: string (nullable = true)\n",
            " |-- OnlineSecurity: string (nullable = true)\n",
            " |-- OnlineBackup: string (nullable = true)\n",
            " |-- DeviceProtection: string (nullable = true)\n",
            " |-- TechSupport: string (nullable = true)\n",
            " |-- StreamingTV: string (nullable = true)\n",
            " |-- StreamingMovies: string (nullable = true)\n",
            " |-- Contract: string (nullable = true)\n",
            " |-- PaperlessBilling: string (nullable = true)\n",
            " |-- PaymentMethod: string (nullable = true)\n",
            " |-- MonthlyCharges: double (nullable = true)\n",
            " |-- TotalCharges: string (nullable = true)\n",
            " |-- Churn: string (nullable = true)\n",
            "\n"
          ]
        }
      ]
    },
    {
      "cell_type": "code",
      "source": [
        "df_spark.dtypes"
      ],
      "metadata": {
        "colab": {
          "base_uri": "https://localhost:8080/"
        },
        "id": "0GoAQyn6BX0n",
        "outputId": "b0afe8aa-521a-4d87-c1b7-93776bceb6d0"
      },
      "execution_count": 7,
      "outputs": [
        {
          "output_type": "execute_result",
          "data": {
            "text/plain": [
              "[('customerID', 'string'),\n",
              " ('gender', 'string'),\n",
              " ('SeniorCitizen', 'int'),\n",
              " ('Partner', 'string'),\n",
              " ('Dependents', 'string'),\n",
              " ('tenure', 'int'),\n",
              " ('PhoneService', 'string'),\n",
              " ('MultipleLines', 'string'),\n",
              " ('InternetService', 'string'),\n",
              " ('OnlineSecurity', 'string'),\n",
              " ('OnlineBackup', 'string'),\n",
              " ('DeviceProtection', 'string'),\n",
              " ('TechSupport', 'string'),\n",
              " ('StreamingTV', 'string'),\n",
              " ('StreamingMovies', 'string'),\n",
              " ('Contract', 'string'),\n",
              " ('PaperlessBilling', 'string'),\n",
              " ('PaymentMethod', 'string'),\n",
              " ('MonthlyCharges', 'double'),\n",
              " ('TotalCharges', 'string'),\n",
              " ('Churn', 'string')]"
            ]
          },
          "metadata": {},
          "execution_count": 7
        }
      ]
    },
    {
      "cell_type": "code",
      "source": [
        "df_spark.describe()"
      ],
      "metadata": {
        "colab": {
          "base_uri": "https://localhost:8080/"
        },
        "id": "ZvVT41aqizcA",
        "outputId": "f0623f1a-b1c4-4bfc-8dce-71086940a990"
      },
      "execution_count": 8,
      "outputs": [
        {
          "output_type": "execute_result",
          "data": {
            "text/plain": [
              "DataFrame[summary: string, customerID: string, gender: string, SeniorCitizen: string, Partner: string, Dependents: string, tenure: string, PhoneService: string, MultipleLines: string, InternetService: string, OnlineSecurity: string, OnlineBackup: string, DeviceProtection: string, TechSupport: string, StreamingTV: string, StreamingMovies: string, Contract: string, PaperlessBilling: string, PaymentMethod: string, MonthlyCharges: string, TotalCharges: string, Churn: string]"
            ]
          },
          "metadata": {},
          "execution_count": 8
        }
      ]
    },
    {
      "cell_type": "code",
      "source": [
        "df_spark.take(2)"
      ],
      "metadata": {
        "colab": {
          "base_uri": "https://localhost:8080/"
        },
        "id": "ljWo9N3oiw5r",
        "outputId": "69962a61-c81d-4e1f-d128-dbe8d1da2a04"
      },
      "execution_count": 9,
      "outputs": [
        {
          "output_type": "execute_result",
          "data": {
            "text/plain": [
              "[Row(customerID='7590-VHVEG', gender='Female', SeniorCitizen=0, Partner='Yes', Dependents='No', tenure=1, PhoneService='No', MultipleLines='No phone service', InternetService='DSL', OnlineSecurity='No', OnlineBackup='Yes', DeviceProtection='No', TechSupport='No', StreamingTV='No', StreamingMovies='No', Contract='Month-to-month', PaperlessBilling='Yes', PaymentMethod='Electronic check', MonthlyCharges=29.85, TotalCharges='29.85', Churn='No'),\n",
              " Row(customerID='5575-GNVDE', gender='Male', SeniorCitizen=0, Partner='No', Dependents='No', tenure=34, PhoneService='Yes', MultipleLines='No', InternetService='DSL', OnlineSecurity='Yes', OnlineBackup='No', DeviceProtection='Yes', TechSupport='No', StreamingTV='No', StreamingMovies='No', Contract='One year', PaperlessBilling='No', PaymentMethod='Mailed check', MonthlyCharges=56.95, TotalCharges='1889.5', Churn='No')]"
            ]
          },
          "metadata": {},
          "execution_count": 9
        }
      ]
    },
    {
      "cell_type": "code",
      "source": [
        "df_spark.count()"
      ],
      "metadata": {
        "colab": {
          "base_uri": "https://localhost:8080/"
        },
        "id": "ILpNHD1mi9Sm",
        "outputId": "595bd5de-844a-4009-fb23-b830da9a6176"
      },
      "execution_count": 10,
      "outputs": [
        {
          "output_type": "execute_result",
          "data": {
            "text/plain": [
              "7043"
            ]
          },
          "metadata": {},
          "execution_count": 10
        }
      ]
    },
    {
      "cell_type": "code",
      "source": [
        "# check for null values\n",
        "for col in df_spark.columns:\n",
        "  print(col, \"\\t\", \"with null values: \", df_spark.filter(df_spark[col].isNull()).count())\n"
      ],
      "metadata": {
        "colab": {
          "base_uri": "https://localhost:8080/"
        },
        "id": "4LJj-iLBVDo5",
        "outputId": "cb838987-4a50-4742-a51d-5d1ea46ebb5b"
      },
      "execution_count": 11,
      "outputs": [
        {
          "output_type": "stream",
          "name": "stdout",
          "text": [
            "customerID \t with null values:  0\n",
            "gender \t with null values:  0\n",
            "SeniorCitizen \t with null values:  0\n",
            "Partner \t with null values:  0\n",
            "Dependents \t with null values:  0\n",
            "tenure \t with null values:  0\n",
            "PhoneService \t with null values:  0\n",
            "MultipleLines \t with null values:  0\n",
            "InternetService \t with null values:  0\n",
            "OnlineSecurity \t with null values:  0\n",
            "OnlineBackup \t with null values:  0\n",
            "DeviceProtection \t with null values:  0\n",
            "TechSupport \t with null values:  0\n",
            "StreamingTV \t with null values:  0\n",
            "StreamingMovies \t with null values:  0\n",
            "Contract \t with null values:  0\n",
            "PaperlessBilling \t with null values:  0\n",
            "PaymentMethod \t with null values:  0\n",
            "MonthlyCharges \t with null values:  0\n",
            "TotalCharges \t with null values:  0\n",
            "Churn \t with null values:  0\n"
          ]
        }
      ]
    },
    {
      "cell_type": "markdown",
      "source": [
        "- There is no null values 😆"
      ],
      "metadata": {
        "id": "ehUAVqY9VTMe"
      }
    },
    {
      "cell_type": "code",
      "source": [
        "#converts the Churn column from categorical values (Yes or No) to numerical values (1 for “Yes” and 0 for No).\n",
        "df_spark = df_spark.withColumn(\"Churn\", when(df_spark.Churn == \"Yes\", 1).otherwise(0))"
      ],
      "metadata": {
        "id": "pRAkXK1Pover"
      },
      "execution_count": 12,
      "outputs": []
    },
    {
      "cell_type": "code",
      "source": [
        "df_spark.head()"
      ],
      "metadata": {
        "colab": {
          "base_uri": "https://localhost:8080/"
        },
        "id": "m4tyGuWMn61k",
        "outputId": "52b9d9b7-57da-431d-be8b-3c7700ba2271"
      },
      "execution_count": 13,
      "outputs": [
        {
          "output_type": "execute_result",
          "data": {
            "text/plain": [
              "Row(customerID='7590-VHVEG', gender='Female', SeniorCitizen=0, Partner='Yes', Dependents='No', tenure=1, PhoneService='No', MultipleLines='No phone service', InternetService='DSL', OnlineSecurity='No', OnlineBackup='Yes', DeviceProtection='No', TechSupport='No', StreamingTV='No', StreamingMovies='No', Contract='Month-to-month', PaperlessBilling='Yes', PaymentMethod='Electronic check', MonthlyCharges=29.85, TotalCharges='29.85', Churn=0)"
            ]
          },
          "metadata": {},
          "execution_count": 13
        }
      ]
    },
    {
      "cell_type": "markdown",
      "source": [
        " Churn=0 Yes! I succssed"
      ],
      "metadata": {
        "id": "54gzeAWLXgML"
      }
    },
    {
      "cell_type": "markdown",
      "source": [
        "## Exploratory Data Analysis\n",
        "- I will be performe Exploratory data analysis to observe the behavior for users who stayed vs users who churned."
      ],
      "metadata": {
        "id": "KUHzerP_V2Cx"
      }
    },
    {
      "cell_type": "markdown",
      "source": [
        "## EDA for Users that Stayed vs Users that Churned"
      ],
      "metadata": {
        "id": "crYM7RcpWgap"
      }
    },
    {
      "cell_type": "code",
      "source": [
        "# convert to pandas for visualisation\n",
        "df_pandas = df_spark.toPandas()"
      ],
      "metadata": {
        "id": "85WWf74Xk4NO"
      },
      "execution_count": 14,
      "outputs": []
    },
    {
      "cell_type": "code",
      "source": [
        "# groupby churn to get counts\n",
        "df_churn = df_spark.select(['customerID', 'Churn']).groupBy('Churn').count()"
      ],
      "metadata": {
        "id": "HrZnWA09o8qs"
      },
      "execution_count": 15,
      "outputs": []
    },
    {
      "cell_type": "code",
      "source": [
        "df_churn.show()"
      ],
      "metadata": {
        "colab": {
          "base_uri": "https://localhost:8080/"
        },
        "id": "MTXcehslpu_O",
        "outputId": "ee5b4ee3-2500-4186-fb42-c16dc0c3f35d"
      },
      "execution_count": 16,
      "outputs": [
        {
          "output_type": "stream",
          "name": "stdout",
          "text": [
            "+-----+-----+\n",
            "|Churn|count|\n",
            "+-----+-----+\n",
            "|    1| 1869|\n",
            "|    0| 5174|\n",
            "+-----+-----+\n",
            "\n"
          ]
        }
      ]
    },
    {
      "cell_type": "code",
      "source": [
        "df_churn = df_churn.toPandas()"
      ],
      "metadata": {
        "id": "kviN_NjFp6U7"
      },
      "execution_count": 17,
      "outputs": []
    },
    {
      "cell_type": "code",
      "source": [
        "# plot the number of users that churned\n",
        "plt.figure(figsize = [8,6])\n",
        "ax = sns.barplot(data = df_churn, x = 'Churn', y='count')\n",
        "ax.set_xticklabels(['Churned','Stayed'])\n",
        "plt.title(\"Numbers of Users That Churned\");"
      ],
      "metadata": {
        "colab": {
          "base_uri": "https://localhost:8080/",
          "height": 561
        },
        "id": "ybG9AnLkqAxx",
        "outputId": "b800b576-31f3-4675-8942-5c53994106b0"
      },
      "execution_count": 18,
      "outputs": [
        {
          "output_type": "stream",
          "name": "stderr",
          "text": [
            "<ipython-input-18-babe74e38916>:4: UserWarning: FixedFormatter should only be used together with FixedLocator\n",
            "  ax.set_xticklabels(['Churned','Stayed'])\n"
          ]
        },
        {
          "output_type": "display_data",
          "data": {
            "text/plain": [
              "<Figure size 800x600 with 1 Axes>"
            ],
            "image/png": "[encoded data removed]"
          },
          "metadata": {}
        }
      ]
    },
    {
      "cell_type": "code",
      "source": [
        "# calculate churn rate\n",
        "1869/(5174+1869)*100\n"
      ],
      "metadata": {
        "colab": {
          "base_uri": "https://localhost:8080/"
        },
        "id": "G-3NaRfHqTxV",
        "outputId": "eb4ffd5d-847b-4617-cb68-f632e4a9346c"
      },
      "execution_count": 19,
      "outputs": [
        {
          "output_type": "execute_result",
          "data": {
            "text/plain": [
              "26.536987079369588"
            ]
          },
          "metadata": {},
          "execution_count": 19
        }
      ]
    },
    {
      "cell_type": "markdown",
      "source": [
        "- **Observation:**\n",
        "From the data, we can observe that 26.54% of users churned, while 73.46% of users stayed.\n",
        "This indicates that a significant majority of users (over 70%) are retained, which is a positive sign. However, there is still a notable portion of users (around 27%) who are leaving, suggesting there may be areas for improvement in user retention strategies."
      ],
      "metadata": {
        "id": "4UBh5WFMai8U"
      }
    },
    {
      "cell_type": "markdown",
      "source": [
        "## Gender Analysis: Churned Users vs. Retained Users\n",
        "Let’s explore whether gender influenced the likelihood of users churning compared to those who remained with the service."
      ],
      "metadata": {
        "id": "Uv15RedBa_p7"
      }
    },
    {
      "cell_type": "code",
      "source": [
        "# create gender df grouped by churn and gender\n",
        "df_gender = df_spark.select(['customerID', 'Churn', 'gender']).dropDuplicates().groupBy('gender', 'churn').count()"
      ],
      "metadata": {
        "id": "VC7Qa87OrBbG"
      },
      "execution_count": 20,
      "outputs": []
    },
    {
      "cell_type": "code",
      "source": [
        "# show gender df\n",
        "df_gender.show()"
      ],
      "metadata": {
        "colab": {
          "base_uri": "https://localhost:8080/"
        },
        "id": "i_S7zmTzrx2b",
        "outputId": "876483bb-a489-46a5-a958-20b260fc6df5"
      },
      "execution_count": 21,
      "outputs": [
        {
          "output_type": "stream",
          "name": "stdout",
          "text": [
            "+------+-----+-----+\n",
            "|gender|churn|count|\n",
            "+------+-----+-----+\n",
            "|  Male|    1|  930|\n",
            "|Female|    0| 2549|\n",
            "|  Male|    0| 2625|\n",
            "|Female|    1|  939|\n",
            "+------+-----+-----+\n",
            "\n"
          ]
        }
      ]
    },
    {
      "cell_type": "code",
      "source": [
        "# convert to pandas for visualisation\n",
        "df_gender = df_gender.toPandas()"
      ],
      "metadata": {
        "id": "AoyElf8tr2sU"
      },
      "execution_count": 22,
      "outputs": []
    },
    {
      "cell_type": "code",
      "source": [
        "# order for the visualisation\n",
        "df_gender = df_gender.sort_values('count', ascending = False)"
      ],
      "metadata": {
        "id": "e5L4VmaSr7xw"
      },
      "execution_count": 23,
      "outputs": []
    },
    {
      "cell_type": "code",
      "source": [
        "# seaborn barplot\n",
        "plt.figure(figsize = [8,6])\n",
        "ax = sns.barplot(data = df_gender, x = 'churn', y='count', hue = 'gender')\n",
        "ax.legend(loc = 1, ncol = 2, framealpha =1, title = 'gender')\n",
        "plt.title(\"Number of Users That Churned by Gender\");"
      ],
      "metadata": {
        "colab": {
          "base_uri": "https://localhost:8080/",
          "height": 506
        },
        "id": "Yv-N2z5Mr-OS",
        "outputId": "d36f996d-e3c8-48a8-ca86-49e5127092ee"
      },
      "execution_count": 24,
      "outputs": [
        {
          "output_type": "display_data",
          "data": {
            "text/plain": [
              "<Figure size 800x600 with 1 Axes>"
            ],
            "image/png": "[encoded data removed]"
          },
          "metadata": {}
        }
      ]
    },
    {
      "cell_type": "code",
      "source": [
        "# fmale churn rate\n",
        "939/(2549+939)"
      ],
      "metadata": {
        "colab": {
          "base_uri": "https://localhost:8080/"
        },
        "id": "4VHDIC7sslJZ",
        "outputId": "ac53fa22-256d-4476-fd23-60fb4536abac"
      },
      "execution_count": 25,
      "outputs": [
        {
          "output_type": "execute_result",
          "data": {
            "text/plain": [
              "0.26920871559633025"
            ]
          },
          "metadata": {},
          "execution_count": 25
        }
      ]
    },
    {
      "cell_type": "code",
      "source": [
        "# male churn rate\n",
        "930/(2625+930)"
      ],
      "metadata": {
        "colab": {
          "base_uri": "https://localhost:8080/"
        },
        "id": "baoeqnMTwLtK",
        "outputId": "746121e2-5728-4cec-db2b-83a78c2e6840"
      },
      "execution_count": 26,
      "outputs": [
        {
          "output_type": "execute_result",
          "data": {
            "text/plain": [
              "0.2616033755274262"
            ]
          },
          "metadata": {},
          "execution_count": 26
        }
      ]
    },
    {
      "cell_type": "markdown",
      "source": [
        "**Observation:**\n",
        "- The churn rate for female users is 26.9%, while the churn rate for male users is 26.2%.\n",
        "- The difference in churn rates between female and male users is relatively small, with female users having a slightly higher churn rate by 0.7%.\n",
        "-This suggests that gender does not have a significant impact on the likelihood of users churning, as the rates are quite similar for both groups."
      ],
      "metadata": {
        "id": "XH86m4aKbWjM"
      }
    },
    {
      "cell_type": "markdown",
      "source": [
        "## Contract Analysis: Churned Users vs. Retained Users\n",
        "Let’s investigate whether having a contract influenced the likelihood of users churning compared to those who remained with the service."
      ],
      "metadata": {
        "id": "dEG4c83XsRft"
      }
    },
    {
      "cell_type": "code",
      "source": [
        "df_level = df_spark.select(['customerID', 'Churn', 'Contract']).dropDuplicates().groupBy('Contract','Churn').count()"
      ],
      "metadata": {
        "id": "VQ8Y_qwos5rj"
      },
      "execution_count": 27,
      "outputs": []
    },
    {
      "cell_type": "code",
      "source": [
        "df_level.show()"
      ],
      "metadata": {
        "colab": {
          "base_uri": "https://localhost:8080/"
        },
        "id": "Jes43ZR8t8JX",
        "outputId": "13539c1e-68ed-43ae-fa95-b5ed55b86c6d"
      },
      "execution_count": 28,
      "outputs": [
        {
          "output_type": "stream",
          "name": "stdout",
          "text": [
            "+--------------+-----+-----+\n",
            "|      Contract|Churn|count|\n",
            "+--------------+-----+-----+\n",
            "|Month-to-month|    1| 1655|\n",
            "|      One year|    1|  166|\n",
            "|      One year|    0| 1307|\n",
            "|      Two year|    1|   48|\n",
            "|      Two year|    0| 1647|\n",
            "|Month-to-month|    0| 2220|\n",
            "+--------------+-----+-----+\n",
            "\n"
          ]
        }
      ]
    },
    {
      "cell_type": "code",
      "source": [
        "# convert to pandas for visualisation\n",
        "df_level = df_level.toPandas()"
      ],
      "metadata": {
        "id": "6VEP50ymvkbV"
      },
      "execution_count": 29,
      "outputs": []
    },
    {
      "cell_type": "code",
      "source": [
        "# plot the barplot using seaborn\n",
        "plt.figure(figsize = [8,6])\n",
        "ax = sns.barplot(data = df_level, x = 'Churn', y='count', hue = 'Contract')\n",
        "ax.legend(loc = 1, ncol = 2, framealpha =1, title = 'Contract')\n",
        "plt.title(\"Number of Users That Churned by Contract\");"
      ],
      "metadata": {
        "colab": {
          "base_uri": "https://localhost:8080/",
          "height": 506
        },
        "id": "Of7bZlsnvv0L",
        "outputId": "38713e42-6e0d-4760-e986-cbdf7b8099a0"
      },
      "execution_count": 30,
      "outputs": [
        {
          "output_type": "display_data",
          "data": {
            "text/plain": [
              "<Figure size 800x600 with 1 Axes>"
            ],
            "image/png": "[encoded data removed]"
          },
          "metadata": {}
        }
      ]
    },
    {
      "cell_type": "code",
      "source": [
        "# Month-to-month churn rate\n",
        "1655/(2220+1655)"
      ],
      "metadata": {
        "colab": {
          "base_uri": "https://localhost:8080/"
        },
        "id": "XIvZfTrXxbOF",
        "outputId": "2f3c0a12-8d68-4152-f5da-15220cd1871b"
      },
      "execution_count": 31,
      "outputs": [
        {
          "output_type": "execute_result",
          "data": {
            "text/plain": [
              "0.4270967741935484"
            ]
          },
          "metadata": {},
          "execution_count": 31
        }
      ]
    },
    {
      "cell_type": "code",
      "source": [
        "# One year churn rate\n",
        "166/(1307+166)"
      ],
      "metadata": {
        "colab": {
          "base_uri": "https://localhost:8080/"
        },
        "id": "T7JUOM13xUck",
        "outputId": "e5067053-defb-418c-9c3e-d0468344489d"
      },
      "execution_count": 32,
      "outputs": [
        {
          "output_type": "execute_result",
          "data": {
            "text/plain": [
              "0.11269517990495587"
            ]
          },
          "metadata": {},
          "execution_count": 32
        }
      ]
    },
    {
      "cell_type": "code",
      "source": [
        "# Two year churn rate\n",
        "48/(1647+48)"
      ],
      "metadata": {
        "colab": {
          "base_uri": "https://localhost:8080/"
        },
        "id": "MFD5dp-VyKnr",
        "outputId": "0d3b0876-d152-4b6b-fa9c-df45680cccd8"
      },
      "execution_count": 33,
      "outputs": [
        {
          "output_type": "execute_result",
          "data": {
            "text/plain": [
              "0.02831858407079646"
            ]
          },
          "metadata": {},
          "execution_count": 33
        }
      ]
    },
    {
      "cell_type": "markdown",
      "source": [
        "**Observation**:\n",
        "From the data, it is clear that the type of contract significantly impacts the churn rate:\n",
        "\n",
        "- Month-to-month contracts have the highest churn rate at 42.7%. This suggests that users with more flexible, short-term commitments are more likely to discontinue the service.\n",
        "- One-year contracts show a much lower churn rate of 11.2%, indicating that users with a longer commitment are less likely to leave within the first year.\n",
        "- Two-year contracts have the lowest churn rate at 2.83%, demonstrating that users with the longest commitments are the most likely to stay.\n",
        "\n",
        "This pattern suggests that longer contract durations are associated with higher user retention. Encouraging users to opt for longer-term contracts could be an effective strategy to reduce churn rates.\n",
        "\n"
      ],
      "metadata": {
        "id": "xM_o9q_GzTWh"
      }
    },
    {
      "cell_type": "markdown",
      "source": [
        "##Service Analysis: Churned Users vs. Retained Users\n",
        "\n",
        "Let’s examine whether the type of service, such as InternetService or PhoneService, influenced the likelihood of users churning compared to those who remained with the service."
      ],
      "metadata": {
        "id": "UfLUqMikck4e"
      }
    },
    {
      "cell_type": "code",
      "source": [
        "df_Servies = df_spark.select(['customerID', 'Churn', 'PhoneService','InternetService']).dropDuplicates().groupBy('InternetService','PhoneService','Churn').count()"
      ],
      "metadata": {
        "id": "opk8zhkbRBZZ"
      },
      "execution_count": 34,
      "outputs": []
    },
    {
      "cell_type": "code",
      "source": [
        "df_Servies.show()"
      ],
      "metadata": {
        "colab": {
          "base_uri": "https://localhost:8080/"
        },
        "id": "wV3odoKjRVvs",
        "outputId": "5402ef0e-a547-492b-b7e8-1a832f7a89f0"
      },
      "execution_count": 35,
      "outputs": [
        {
          "output_type": "stream",
          "name": "stdout",
          "text": [
            "+---------------+------------+-----+-----+\n",
            "|InternetService|PhoneService|Churn|count|\n",
            "+---------------+------------+-----+-----+\n",
            "|    Fiber optic|         Yes|    0| 1799|\n",
            "|            DSL|          No|    1|  170|\n",
            "|             No|         Yes|    1|  113|\n",
            "|             No|         Yes|    0| 1413|\n",
            "|            DSL|         Yes|    1|  289|\n",
            "|            DSL|          No|    0|  512|\n",
            "|            DSL|         Yes|    0| 1450|\n",
            "|    Fiber optic|         Yes|    1| 1297|\n",
            "+---------------+------------+-----+-----+\n",
            "\n"
          ]
        }
      ]
    },
    {
      "cell_type": "code",
      "source": [
        "# convert to pandas for visualisation\n",
        "df_Servies = df_Servies.toPandas()"
      ],
      "metadata": {
        "id": "nkL814hzSn_f"
      },
      "execution_count": 36,
      "outputs": []
    },
    {
      "cell_type": "code",
      "source": [
        "# plot the barplot using seaborn\n",
        "plt.figure(figsize = [10,6])\n",
        "ax = sns.barplot(data = df_Servies, x = 'Churn', y='count', hue = 'InternetService')\n",
        "ax.legend(loc = 1, ncol = 2, framealpha =1, title = 'InternetService')\n",
        "plt.title(\"Number of Users That Churned by InternetService\");\n",
        "ax.spines['top'].set_visible(False)\n",
        "ax.spines['right'].set_visible(False)\n",
        "ax.spines['bottom'].set_color('grey')\n",
        "ax.spines['left'].set_color('grey')\n",
        "\n",
        "# plot the barplot using seaborn\n",
        "plt.figure(figsize = [10,6])\n",
        "ax = sns.barplot(data = df_Servies, x = 'Churn', y='count', hue = 'PhoneService')\n",
        "ax.legend(loc = 1, ncol = 2, framealpha =1, title = 'PhoneService')\n",
        "plt.title(\"Number of Users That Churned by PhoneService\");\n",
        "ax.spines['top'].set_visible(False)\n",
        "ax.spines['right'].set_visible(False)\n",
        "ax.spines['bottom'].set_color('grey')\n",
        "ax.spines['left'].set_color('grey')\n"
      ],
      "metadata": {
        "colab": {
          "base_uri": "https://localhost:8080/",
          "height": 821
        },
        "id": "JukbAdXHS_I2",
        "outputId": "64352717-ae97-4800-adc3-f85b9c009c9e"
      },
      "execution_count": 37,
      "outputs": [
        {
          "output_type": "display_data",
          "data": {
            "text/plain": [
              "<Figure size 1000x600 with 1 Axes>"
            ],
            "image/png": "[encoded data removed]"
          },
          "metadata": {}
        },
        {
          "output_type": "display_data",
          "data": {
            "text/plain": [
              "<Figure size 1000x600 with 1 Axes>"
            ],
            "image/png": "[encoded data removed]"
          },
          "metadata": {}
        }
      ]
    },
    {
      "cell_type": "code",
      "source": [
        "# fiber optic with phone service churn rate\n",
        "1297/(1297 + 1799)"
      ],
      "metadata": {
        "colab": {
          "base_uri": "https://localhost:8080/"
        },
        "id": "26NADd4nen_3",
        "outputId": "33aa3571-afdd-4825-9eb9-03177dffdff5"
      },
      "execution_count": 38,
      "outputs": [
        {
          "output_type": "execute_result",
          "data": {
            "text/plain": [
              "0.4189276485788114"
            ]
          },
          "metadata": {},
          "execution_count": 38
        }
      ]
    },
    {
      "cell_type": "code",
      "source": [
        "#DSL without phone service churn rate\n",
        "170/(170 + 512)"
      ],
      "metadata": {
        "colab": {
          "base_uri": "https://localhost:8080/"
        },
        "id": "jsocl09Iery7",
        "outputId": "273a0aaa-eb0c-45a9-a801-217798009919"
      },
      "execution_count": 39,
      "outputs": [
        {
          "output_type": "execute_result",
          "data": {
            "text/plain": [
              "0.24926686217008798"
            ]
          },
          "metadata": {},
          "execution_count": 39
        }
      ]
    },
    {
      "cell_type": "code",
      "source": [
        "#No Internet with phone service churn rate\n",
        "113/(113 + 1413)"
      ],
      "metadata": {
        "colab": {
          "base_uri": "https://localhost:8080/"
        },
        "id": "4vHFohvnfCpY",
        "outputId": "29112a35-bb1f-4c3f-ebd5-25323609602f"
      },
      "execution_count": 40,
      "outputs": [
        {
          "output_type": "execute_result",
          "data": {
            "text/plain": [
              "0.07404980340760157"
            ]
          },
          "metadata": {},
          "execution_count": 40
        }
      ]
    },
    {
      "cell_type": "code",
      "source": [
        "#DSL with phone service churn rate\n",
        "289/(289 + 1450)"
      ],
      "metadata": {
        "colab": {
          "base_uri": "https://localhost:8080/"
        },
        "id": "ToXY5i10fiWt",
        "outputId": "b3721651-9052-4a57-bc9e-bad9b4c6dd09"
      },
      "execution_count": 41,
      "outputs": [
        {
          "output_type": "execute_result",
          "data": {
            "text/plain": [
              "0.16618746405980447"
            ]
          },
          "metadata": {},
          "execution_count": 41
        }
      ]
    },
    {
      "cell_type": "markdown",
      "source": [
        "**Observation:**\n",
        "- Fiber optic with Phone Service has the highest churn rate at 41.9%, indicating that a significant portion of users with this combination are leaving the service.\n",
        "\n",
        "- DSL without Phone Service has a churn rate of 24.9%, which is lower than Fiber optic but still notable.\n",
        "\n",
        "- No Internet with Phone Service has the lowest churn rate at 7.4%, suggesting that users with only phone service are the most likely to stay.\n",
        "- DSL with Phone Service has a churn rate of 16.6%, indicating a moderate level of churn compared to the other categories.\n",
        "\n",
        "These observations suggest that users with Fiber optic internet are more likely to churn, especially when they also have phone service. In contrast, users with only phone service and no internet are the most likely to remain with the service.\n",
        "\n",
        "**This could indicate that the type of internet service plays a significant role in user retention.**"
      ],
      "metadata": {
        "id": "GckQS0CffgM1"
      }
    },
    {
      "cell_type": "markdown",
      "source": [
        "## Payment Method Analysis: Churned Users vs. Retained Users\n",
        "\n",
        "Let’s analyze whether the payment method had an impact on the likelihood of users churning compared to those who remained with the service."
      ],
      "metadata": {
        "id": "tfXG5L1rg3Hp"
      }
    },
    {
      "cell_type": "code",
      "source": [
        "PaymentMethod = df_spark.select(['customerID', 'Churn','PaymentMethod']).dropDuplicates().groupBy('PaymentMethod','Churn').count()"
      ],
      "metadata": {
        "id": "ualSygt1hSdJ"
      },
      "execution_count": 42,
      "outputs": []
    },
    {
      "cell_type": "code",
      "source": [
        "PaymentMethod.show()"
      ],
      "metadata": {
        "colab": {
          "base_uri": "https://localhost:8080/"
        },
        "id": "yTINWc_hhgkT",
        "outputId": "9f61d7c0-0aad-4cf9-a139-8ebed4df547e"
      },
      "execution_count": 43,
      "outputs": [
        {
          "output_type": "stream",
          "name": "stdout",
          "text": [
            "+--------------------+-----+-----+\n",
            "|       PaymentMethod|Churn|count|\n",
            "+--------------------+-----+-----+\n",
            "|Credit card (auto...|    1|  232|\n",
            "|        Mailed check|    0| 1304|\n",
            "|Bank transfer (au...|    0| 1286|\n",
            "|    Electronic check|    0| 1294|\n",
            "|Bank transfer (au...|    1|  258|\n",
            "|        Mailed check|    1|  308|\n",
            "|    Electronic check|    1| 1071|\n",
            "|Credit card (auto...|    0| 1290|\n",
            "+--------------------+-----+-----+\n",
            "\n"
          ]
        }
      ]
    },
    {
      "cell_type": "code",
      "source": [
        "# convert to pandas for visualisation\n",
        "PaymentMethod = PaymentMethod.toPandas()"
      ],
      "metadata": {
        "id": "FgFEIuvPhsnh"
      },
      "execution_count": 44,
      "outputs": []
    },
    {
      "cell_type": "code",
      "source": [
        "# plot the barplot using seaborn\n",
        "plt.figure(figsize = [8,6])\n",
        "ax = sns.barplot(data = PaymentMethod, x = 'Churn', y='count', hue = 'PaymentMethod')\n",
        "ax.legend(loc = 1, ncol = 2, framealpha =1, title = 'PaymentMethod')\n",
        "plt.title(\"Number of Users That Churned by PaymentMethod\");"
      ],
      "metadata": {
        "colab": {
          "base_uri": "https://localhost:8080/",
          "height": 506
        },
        "id": "uMFUvSRNhx9i",
        "outputId": "5e88a8f3-8d98-4634-e397-b193125f0dbd"
      },
      "execution_count": 45,
      "outputs": [
        {
          "output_type": "display_data",
          "data": {
            "text/plain": [
              "<Figure size 800x600 with 1 Axes>"
            ],
            "image/png": "[encoded data removed]"
          },
          "metadata": {}
        }
      ]
    },
    {
      "cell_type": "code",
      "source": [
        "#credit card auto churn rate\n",
        "232 / (232 + 1290)"
      ],
      "metadata": {
        "colab": {
          "base_uri": "https://localhost:8080/"
        },
        "id": "AksBCn4cifeZ",
        "outputId": "f8fecf05-47f8-4a2c-dc81-17e3c1f13eef"
      },
      "execution_count": 46,
      "outputs": [
        {
          "output_type": "execute_result",
          "data": {
            "text/plain": [
              "0.15243101182654403"
            ]
          },
          "metadata": {},
          "execution_count": 46
        }
      ]
    },
    {
      "cell_type": "code",
      "source": [
        "#electronic check churn rate\n",
        "1071 / (1071 + 1294)"
      ],
      "metadata": {
        "colab": {
          "base_uri": "https://localhost:8080/"
        },
        "id": "zxZfYsO0i_GE",
        "outputId": "56778643-5607-4a8f-c25b-0b095e5baad9"
      },
      "execution_count": 47,
      "outputs": [
        {
          "output_type": "execute_result",
          "data": {
            "text/plain": [
              "0.4528541226215645"
            ]
          },
          "metadata": {},
          "execution_count": 47
        }
      ]
    },
    {
      "cell_type": "code",
      "source": [
        "#mailed check churn rate\n",
        "308 / (308 + 1304)"
      ],
      "metadata": {
        "colab": {
          "base_uri": "https://localhost:8080/"
        },
        "id": "AVsEgrpgkDgr",
        "outputId": "4c0db299-ba1c-4b4d-fc2e-0171cab1c3fc"
      },
      "execution_count": 48,
      "outputs": [
        {
          "output_type": "execute_result",
          "data": {
            "text/plain": [
              "0.19106699751861042"
            ]
          },
          "metadata": {},
          "execution_count": 48
        }
      ]
    },
    {
      "cell_type": "code",
      "source": [
        "#bank transfer auto churn rate\n",
        "258 / (258 + 1286)\n"
      ],
      "metadata": {
        "colab": {
          "base_uri": "https://localhost:8080/"
        },
        "id": "ZATAEoxHjrLM",
        "outputId": "0142f340-084a-4f44-fc0c-5cff8be02a16"
      },
      "execution_count": 49,
      "outputs": [
        {
          "output_type": "execute_result",
          "data": {
            "text/plain": [
              "0.16709844559585493"
            ]
          },
          "metadata": {},
          "execution_count": 49
        }
      ]
    },
    {
      "cell_type": "markdown",
      "source": [
        "**Observation**:\n",
        "- **Electronic check** has the highest churn rate at 45.3%, indicating that users who pay via electronic check are the most likely to leave the service.\n",
        "- **Mailed check** has a churn rate of 19.1%, which is the second highest among the payment methods.\n",
        "- **Bank transfer** (automatic) has a churn rate of 16.7%, showing a moderate level of churn.\n",
        "- **Credit card** (automatic) has the lowest churn rate at 15.2%, suggesting that users who pay via automatic credit card payments are the least likely to churn.\n",
        "\n",
        "These observations suggest that automatic payment methods, particularly credit card payments, are associated with lower churn rates. Encouraging users to switch to automatic payment methods could potentially improve retention rates."
      ],
      "metadata": {
        "id": "0TabEkekkNhk"
      }
    },
    {
      "cell_type": "markdown",
      "source": [
        "# Senior Citizen Analysis: Churn vs. Retention\n",
        "Let’s analyze how being a senior citizen affects the likelihood of customer churn."
      ],
      "metadata": {
        "id": "eNr9b7xRrGnh"
      }
    },
    {
      "cell_type": "code",
      "source": [
        "df_spark.columns"
      ],
      "metadata": {
        "colab": {
          "base_uri": "https://localhost:8080/"
        },
        "id": "0NBNjkC3lMI3",
        "outputId": "6ec0c12b-cc63-41bb-8750-5498c9a20afa"
      },
      "execution_count": 50,
      "outputs": [
        {
          "output_type": "execute_result",
          "data": {
            "text/plain": [
              "['customerID',\n",
              " 'gender',\n",
              " 'SeniorCitizen',\n",
              " 'Partner',\n",
              " 'Dependents',\n",
              " 'tenure',\n",
              " 'PhoneService',\n",
              " 'MultipleLines',\n",
              " 'InternetService',\n",
              " 'OnlineSecurity',\n",
              " 'OnlineBackup',\n",
              " 'DeviceProtection',\n",
              " 'TechSupport',\n",
              " 'StreamingTV',\n",
              " 'StreamingMovies',\n",
              " 'Contract',\n",
              " 'PaperlessBilling',\n",
              " 'PaymentMethod',\n",
              " 'MonthlyCharges',\n",
              " 'TotalCharges',\n",
              " 'Churn']"
            ]
          },
          "metadata": {},
          "execution_count": 50
        }
      ]
    },
    {
      "cell_type": "code",
      "source": [
        "SeniorCitizen = df_spark.select(['customerID', 'Churn','SeniorCitizen']).dropDuplicates().groupBy('SeniorCitizen','Churn').count()"
      ],
      "metadata": {
        "id": "knMM-XzTr7wM"
      },
      "execution_count": 51,
      "outputs": []
    },
    {
      "cell_type": "code",
      "source": [
        "SeniorCitizen.show()"
      ],
      "metadata": {
        "colab": {
          "base_uri": "https://localhost:8080/"
        },
        "id": "-8QGPdAjsXuC",
        "outputId": "cfdcaa6f-4327-4fe8-bfa5-807035308544"
      },
      "execution_count": 52,
      "outputs": [
        {
          "output_type": "stream",
          "name": "stdout",
          "text": [
            "+-------------+-----+-----+\n",
            "|SeniorCitizen|Churn|count|\n",
            "+-------------+-----+-----+\n",
            "|            1|    0|  666|\n",
            "|            1|    1|  476|\n",
            "|            0|    0| 4508|\n",
            "|            0|    1| 1393|\n",
            "+-------------+-----+-----+\n",
            "\n"
          ]
        }
      ]
    },
    {
      "cell_type": "code",
      "source": [
        "SeniorCitizen=SeniorCitizen.toPandas()"
      ],
      "metadata": {
        "id": "agqR3xO7sCI3"
      },
      "execution_count": 53,
      "outputs": []
    },
    {
      "cell_type": "code",
      "source": [
        "# plot the barplot using seaborn\n",
        "plt.figure(figsize = [8,6])\n",
        "ax = sns.barplot(data = SeniorCitizen, x = 'Churn', y='count', hue = 'SeniorCitizen')\n",
        "ax.legend(loc = 1, ncol = 2, framealpha =1, title = 'SeniorCitizen')\n",
        "\n",
        "plt.title(\"Number of Users That Churned by Senior Citizen \");\n"
      ],
      "metadata": {
        "colab": {
          "base_uri": "https://localhost:8080/",
          "height": 506
        },
        "id": "DA5RMgsysKqk",
        "outputId": "c630d396-40d9-4b24-e0dd-f7be014a6e81"
      },
      "execution_count": 54,
      "outputs": [
        {
          "output_type": "display_data",
          "data": {
            "text/plain": [
              "<Figure size 800x600 with 1 Axes>"
            ],
            "image/png": "[encoded data removed]"
          },
          "metadata": {}
        }
      ]
    },
    {
      "cell_type": "code",
      "source": [
        "#The churn rate for senior citizens\n",
        "476/(666 + 476)"
      ],
      "metadata": {
        "colab": {
          "base_uri": "https://localhost:8080/"
        },
        "id": "p_cF4Lm__en1",
        "outputId": "4ce07e49-ae03-4f72-b2c8-32e244e3e304"
      },
      "execution_count": 55,
      "outputs": [
        {
          "output_type": "execute_result",
          "data": {
            "text/plain": [
              "0.4168126094570928"
            ]
          },
          "metadata": {},
          "execution_count": 55
        }
      ]
    },
    {
      "cell_type": "code",
      "source": [
        "#The churn rate for non-senior citizens\n",
        "1393/(4508 + 1393)"
      ],
      "metadata": {
        "colab": {
          "base_uri": "https://localhost:8080/"
        },
        "id": "EqSeTlef_6EO",
        "outputId": "2549ca0e-7e3d-4dd2-d63f-e33aa445a722"
      },
      "execution_count": 56,
      "outputs": [
        {
          "output_type": "execute_result",
          "data": {
            "text/plain": [
              "0.23606168446026096"
            ]
          },
          "metadata": {},
          "execution_count": 56
        }
      ]
    },
    {
      "cell_type": "markdown",
      "source": [
        "## Observation\n",
        "- Senior citizens have a higher churn rate (41.7%) compared to non-senior citizens (23.6%).\n",
        "\n",
        "This suggests that senior citizens are more likely to discontinue the service compared to non-senior citizens.\n"
      ],
      "metadata": {
        "id": "wPHMCX_MA-1_"
      }
    },
    {
      "cell_type": "markdown",
      "source": [
        "## Feature Engineering\n",
        "Now that EDA has been performed, we can build out the features that seem most promising to train our model on.\n",
        "\n",
        "The features we will build out are:\n",
        "\n",
        "\n",
        "**Categorical:**\n",
        "\n",
        "* gender\n",
        "\n",
        "*   Partner\n",
        "*   Dependents\n",
        "PhoneService\n",
        "\n",
        "*   MultipleLines\n",
        "\n",
        "*   InternetService\n",
        "\n",
        "*   OnlineSecurity\n",
        "*   OnlineBackup\n",
        "* eviceProtection\n",
        "* TechSupport\n",
        "* StreamingTV\n",
        "* StreamingMovies\n",
        "* Contract\n",
        "* PaperlessBilling\n",
        "* PaymentMethod\n",
        "\n",
        "**Numerical:**\n",
        "\n",
        "* tenure\n",
        "* MonthlyCharges\n",
        "* TotalCharges\n",
        "* SeniorCitizen\n",
        "\n",
        "I will also then add a churn label and join these all together. This will create a DataFrame where each row represents information pertaining to each individual customer. Once we drop the customerID, this DataFrame can be vectorized, standardized, and fed into our different machine learning algorithms.\n",
        "\n",
        "First, I will take the categorical variables and convert them into numeric variables."
      ],
      "metadata": {
        "id": "lfM6aC3_BbIe"
      }
    },
    {
      "cell_type": "markdown",
      "source": [
        "**Gender**"
      ],
      "metadata": {
        "id": "a5ahEwUgO5Xh"
      }
    },
    {
      "cell_type": "code",
      "source": [
        "gender_df = df_spark.select(['customerID', 'gender']).dropDuplicates()"
      ],
      "metadata": {
        "id": "KZZRuOvNFFHU"
      },
      "execution_count": 57,
      "outputs": []
    },
    {
      "cell_type": "code",
      "source": [
        "gender_df=gender_df.withColumn('gender',when(gender_df.gender=='Female',1).otherwise(0))"
      ],
      "metadata": {
        "id": "WixHJZ6TFk3j"
      },
      "execution_count": 58,
      "outputs": []
    },
    {
      "cell_type": "code",
      "source": [
        "gender_df.count()"
      ],
      "metadata": {
        "colab": {
          "base_uri": "https://localhost:8080/"
        },
        "id": "uU97WoYoHppT",
        "outputId": "2a57d7b1-8511-422b-e5f6-a4d70094cf8c"
      },
      "execution_count": 59,
      "outputs": [
        {
          "output_type": "execute_result",
          "data": {
            "text/plain": [
              "7043"
            ]
          },
          "metadata": {},
          "execution_count": 59
        }
      ]
    },
    {
      "cell_type": "code",
      "source": [
        "# check\n",
        "gender_df.show(20)"
      ],
      "metadata": {
        "colab": {
          "base_uri": "https://localhost:8080/"
        },
        "id": "XP6cRc2oH5di",
        "outputId": "9e699827-f7e3-4fa1-a55b-6fada2b8f4e0"
      },
      "execution_count": 60,
      "outputs": [
        {
          "output_type": "stream",
          "name": "stdout",
          "text": [
            "+----------+------+\n",
            "|customerID|gender|\n",
            "+----------+------+\n",
            "|2240-HSJQD|     0|\n",
            "|8896-RAZCR|     1|\n",
            "|3030-ZKIWL|     0|\n",
            "|7627-JKIAZ|     1|\n",
            "|6891-JPYFF|     1|\n",
            "|5461-QKNTN|     0|\n",
            "|7675-OZCZG|     1|\n",
            "|7198-GLXTC|     0|\n",
            "|8237-ULIXL|     1|\n",
            "|4231-LZUYM|     1|\n",
            "|4550-VBOFE|     0|\n",
            "|1303-SRDOK|     1|\n",
            "|5197-LQXXH|     1|\n",
            "|1120-BMWUB|     1|\n",
            "|2883-ILGWO|     0|\n",
            "|0396-HUJBP|     1|\n",
            "|9026-RNUJS|     0|\n",
            "|2897-DOVND|     0|\n",
            "|3274-NSDWE|     1|\n",
            "|6543-XRMYR|     1|\n",
            "+----------+------+\n",
            "only showing top 20 rows\n",
            "\n"
          ]
        }
      ]
    },
    {
      "cell_type": "markdown",
      "source": [
        "**PaymentMethod**"
      ],
      "metadata": {
        "id": "cwHQD-xpPFCQ"
      }
    },
    {
      "cell_type": "code",
      "source": [
        "df2 = df_spark.select(['customerID', 'PaymentMethod']).dropDuplicates()"
      ],
      "metadata": {
        "id": "aQFC5711Ms0g"
      },
      "execution_count": 61,
      "outputs": []
    },
    {
      "cell_type": "code",
      "source": [
        "df2.show()"
      ],
      "metadata": {
        "colab": {
          "base_uri": "https://localhost:8080/"
        },
        "id": "DkA7LqehKKto",
        "outputId": "7ed90aaa-a2e6-4b77-f770-d13550a35fc2"
      },
      "execution_count": 62,
      "outputs": [
        {
          "output_type": "stream",
          "name": "stdout",
          "text": [
            "+----------+--------------------+\n",
            "|customerID|       PaymentMethod|\n",
            "+----------+--------------------+\n",
            "|6467-CHFZW|    Electronic check|\n",
            "|4443-EMBNA|Bank transfer (au...|\n",
            "|9396-ZSFLL|        Mailed check|\n",
            "|0139-IVFJG|    Electronic check|\n",
            "|4335-BSMJS|Credit card (auto...|\n",
            "|3643-AHCFP|Bank transfer (au...|\n",
            "|2176-LVPNX|        Mailed check|\n",
            "|7979-CORPM|Credit card (auto...|\n",
            "|9337-SRRNI|Credit card (auto...|\n",
            "|9546-CQJSU|    Electronic check|\n",
            "|1958-RNRKS|    Electronic check|\n",
            "|5136-KCKGI|        Mailed check|\n",
            "|7548-SEPYI|    Electronic check|\n",
            "|0023-UYUPN|    Electronic check|\n",
            "|8348-HFYIV|    Electronic check|\n",
            "|2250-IVBWA|    Electronic check|\n",
            "|1400-WIVLL|    Electronic check|\n",
            "|2817-LVCPP|Credit card (auto...|\n",
            "|3896-ZVNET|        Mailed check|\n",
            "|4324-BZCKL|        Mailed check|\n",
            "+----------+--------------------+\n",
            "only showing top 20 rows\n",
            "\n"
          ]
        }
      ]
    },
    {
      "cell_type": "code",
      "source": [
        "df2 = df2.withColumn('PaymentMethod',\n",
        "                   when(df2.PaymentMethod == 'Credit card (automatic)', 1)\n",
        "                   .when(df2.PaymentMethod == 'Mailed check', 2)\n",
        "                   .when(df2.PaymentMethod == 'Bank transfer (automatic)', 3)\n",
        "                   .when(df2.PaymentMethod == 'Electronic check', 4)\n",
        "                   .otherwise(0))"
      ],
      "metadata": {
        "id": "mqwrLIPsLee6"
      },
      "execution_count": 63,
      "outputs": []
    },
    {
      "cell_type": "code",
      "source": [
        "#check\n",
        "df2.show()"
      ],
      "metadata": {
        "colab": {
          "base_uri": "https://localhost:8080/"
        },
        "id": "Y41bBzqtNb94",
        "outputId": "5e91067f-9bcc-42b3-a656-8997fd4533d1"
      },
      "execution_count": 64,
      "outputs": [
        {
          "output_type": "stream",
          "name": "stdout",
          "text": [
            "+----------+-------------+\n",
            "|customerID|PaymentMethod|\n",
            "+----------+-------------+\n",
            "|6467-CHFZW|            4|\n",
            "|4443-EMBNA|            3|\n",
            "|9396-ZSFLL|            2|\n",
            "|0139-IVFJG|            4|\n",
            "|4335-BSMJS|            1|\n",
            "|3643-AHCFP|            3|\n",
            "|2176-LVPNX|            2|\n",
            "|7979-CORPM|            1|\n",
            "|9337-SRRNI|            1|\n",
            "|9546-CQJSU|            4|\n",
            "|1958-RNRKS|            4|\n",
            "|5136-KCKGI|            2|\n",
            "|7548-SEPYI|            4|\n",
            "|0023-UYUPN|            4|\n",
            "|8348-HFYIV|            4|\n",
            "|2250-IVBWA|            4|\n",
            "|1400-WIVLL|            4|\n",
            "|2817-LVCPP|            1|\n",
            "|3896-ZVNET|            2|\n",
            "|4324-BZCKL|            2|\n",
            "+----------+-------------+\n",
            "only showing top 20 rows\n",
            "\n"
          ]
        }
      ]
    },
    {
      "cell_type": "markdown",
      "source": [
        "**InternetService**"
      ],
      "metadata": {
        "id": "D3NGzZWwPMzd"
      }
    },
    {
      "cell_type": "code",
      "source": [
        "InternetService_df= df_spark.select(['customerID', 'InternetService']).dropDuplicates()"
      ],
      "metadata": {
        "id": "ETZw-1UNPX_f"
      },
      "execution_count": 65,
      "outputs": []
    },
    {
      "cell_type": "code",
      "source": [
        "InternetService_df.show()"
      ],
      "metadata": {
        "colab": {
          "base_uri": "https://localhost:8080/"
        },
        "id": "j1rWVTv-PnYE",
        "outputId": "fb8a8660-743b-427f-c3e9-7611eb6da671"
      },
      "execution_count": 66,
      "outputs": [
        {
          "output_type": "stream",
          "name": "stdout",
          "text": [
            "+----------+---------------+\n",
            "|customerID|InternetService|\n",
            "+----------+---------------+\n",
            "|3413-BMNZE|            DSL|\n",
            "|0191-ZHSKZ|            DSL|\n",
            "|0278-YXOOG|             No|\n",
            "|2656-FMOKZ|    Fiber optic|\n",
            "|8098-LLAZX|    Fiber optic|\n",
            "|0979-MOZQI|            DSL|\n",
            "|5461-QKNTN|    Fiber optic|\n",
            "|2408-TZMJL|    Fiber optic|\n",
            "|2761-OCIAX|    Fiber optic|\n",
            "|6732-VAILE|            DSL|\n",
            "|5155-AZQPB|            DSL|\n",
            "|8311-UEUAB|            DSL|\n",
            "|9168-INPSZ|    Fiber optic|\n",
            "|6670-MFRPK|    Fiber optic|\n",
            "|2792-LSHWX|    Fiber optic|\n",
            "|5533-NHFRF|            DSL|\n",
            "|0635-WKOLD|            DSL|\n",
            "|6838-HVLXG|             No|\n",
            "|7587-RZNME|            DSL|\n",
            "|3082-YVEKW|            DSL|\n",
            "+----------+---------------+\n",
            "only showing top 20 rows\n",
            "\n"
          ]
        }
      ]
    },
    {
      "cell_type": "code",
      "source": [
        "InternetService_df = InternetService_df.withColumn('InternetService',\n",
        "                   when(InternetService_df.InternetService == 'Fiber optic', 1)\n",
        "                   .when(InternetService_df.InternetService == 'DSL', 2)\n",
        "                   .otherwise(0))"
      ],
      "metadata": {
        "id": "jNIK7czyPtiT"
      },
      "execution_count": 67,
      "outputs": []
    },
    {
      "cell_type": "code",
      "source": [
        "InternetService_df.show()"
      ],
      "metadata": {
        "colab": {
          "base_uri": "https://localhost:8080/"
        },
        "id": "vZIA1DBwQTST",
        "outputId": "6639596e-460b-4368-d00b-52a98b1dc610"
      },
      "execution_count": 68,
      "outputs": [
        {
          "output_type": "stream",
          "name": "stdout",
          "text": [
            "+----------+---------------+\n",
            "|customerID|InternetService|\n",
            "+----------+---------------+\n",
            "|3413-BMNZE|              2|\n",
            "|0191-ZHSKZ|              2|\n",
            "|0278-YXOOG|              0|\n",
            "|2656-FMOKZ|              1|\n",
            "|8098-LLAZX|              1|\n",
            "|0979-MOZQI|              2|\n",
            "|5461-QKNTN|              1|\n",
            "|2408-TZMJL|              1|\n",
            "|2761-OCIAX|              1|\n",
            "|6732-VAILE|              2|\n",
            "|5155-AZQPB|              2|\n",
            "|8311-UEUAB|              2|\n",
            "|9168-INPSZ|              1|\n",
            "|6670-MFRPK|              1|\n",
            "|2792-LSHWX|              1|\n",
            "|5533-NHFRF|              2|\n",
            "|0635-WKOLD|              2|\n",
            "|6838-HVLXG|              0|\n",
            "|7587-RZNME|              2|\n",
            "|3082-YVEKW|              2|\n",
            "+----------+---------------+\n",
            "only showing top 20 rows\n",
            "\n"
          ]
        }
      ]
    },
    {
      "cell_type": "markdown",
      "source": [
        "**PhoneService**"
      ],
      "metadata": {
        "id": "4CJAo3JEPTka"
      }
    },
    {
      "cell_type": "code",
      "source": [
        "PhoneService_df= df_spark.select(['customerID', 'PhoneService']).dropDuplicates()"
      ],
      "metadata": {
        "id": "1KpnK9KtPS6B"
      },
      "execution_count": 69,
      "outputs": []
    },
    {
      "cell_type": "code",
      "source": [
        "PhoneService_df.show()"
      ],
      "metadata": {
        "colab": {
          "base_uri": "https://localhost:8080/"
        },
        "id": "0NeSY_AKQiYW",
        "outputId": "4c93b92b-368c-468d-f56f-c65db1a4568a"
      },
      "execution_count": 70,
      "outputs": [
        {
          "output_type": "stream",
          "name": "stdout",
          "text": [
            "+----------+------------+\n",
            "|customerID|PhoneService|\n",
            "+----------+------------+\n",
            "|9286-BHDQG|          No|\n",
            "|6496-JDSSB|         Yes|\n",
            "|0516-UXRMT|         Yes|\n",
            "|5845-BZZIB|         Yes|\n",
            "|9092-GDZKO|         Yes|\n",
            "|0115-TFERT|         Yes|\n",
            "|4741-WWJQZ|         Yes|\n",
            "|8800-ZKRFW|         Yes|\n",
            "|5816-JMLGY|         Yes|\n",
            "|4795-KTRTH|         Yes|\n",
            "|7833-PKIHD|         Yes|\n",
            "|4079-VTGLK|         Yes|\n",
            "|4074-SJFFA|         Yes|\n",
            "|6402-SSEJG|          No|\n",
            "|3763-GCZHZ|         Yes|\n",
            "|0233-FTHAV|         Yes|\n",
            "|3148-AOIQT|         Yes|\n",
            "|8043-PNYSD|         Yes|\n",
            "|7711-YIJWC|         Yes|\n",
            "|9753-OYLBX|         Yes|\n",
            "+----------+------------+\n",
            "only showing top 20 rows\n",
            "\n"
          ]
        }
      ]
    },
    {
      "cell_type": "code",
      "source": [
        "PhoneService_df=PhoneService_df.withColumn('PhoneService',\n",
        "                                           when(PhoneService_df.PhoneService=='Yes',1).otherwise(0))"
      ],
      "metadata": {
        "id": "hO1rAD4XQkfO"
      },
      "execution_count": 71,
      "outputs": []
    },
    {
      "cell_type": "code",
      "source": [
        "PhoneService_df.show()"
      ],
      "metadata": {
        "colab": {
          "base_uri": "https://localhost:8080/"
        },
        "id": "UT4TRQhhQ9vW",
        "outputId": "ff55f224-cde5-427d-bea1-cd7df6af673a"
      },
      "execution_count": 72,
      "outputs": [
        {
          "output_type": "stream",
          "name": "stdout",
          "text": [
            "+----------+------------+\n",
            "|customerID|PhoneService|\n",
            "+----------+------------+\n",
            "|9286-BHDQG|           0|\n",
            "|6496-JDSSB|           1|\n",
            "|0516-UXRMT|           1|\n",
            "|5845-BZZIB|           1|\n",
            "|9092-GDZKO|           1|\n",
            "|0115-TFERT|           1|\n",
            "|4741-WWJQZ|           1|\n",
            "|8800-ZKRFW|           1|\n",
            "|5816-JMLGY|           1|\n",
            "|4795-KTRTH|           1|\n",
            "|7833-PKIHD|           1|\n",
            "|4079-VTGLK|           1|\n",
            "|4074-SJFFA|           1|\n",
            "|6402-SSEJG|           0|\n",
            "|3763-GCZHZ|           1|\n",
            "|0233-FTHAV|           1|\n",
            "|3148-AOIQT|           1|\n",
            "|8043-PNYSD|           1|\n",
            "|7711-YIJWC|           1|\n",
            "|9753-OYLBX|           1|\n",
            "+----------+------------+\n",
            "only showing top 20 rows\n",
            "\n"
          ]
        }
      ]
    },
    {
      "cell_type": "markdown",
      "source": [
        "**SeniorCitizen**"
      ],
      "metadata": {
        "id": "lqquudjcWb6z"
      }
    },
    {
      "cell_type": "code",
      "source": [
        "SeniorCitizen_df=df_spark.select('customerID','SeniorCitizen')"
      ],
      "metadata": {
        "id": "RFs6z-BIWNbt"
      },
      "execution_count": 73,
      "outputs": []
    },
    {
      "cell_type": "code",
      "source": [
        "SeniorCitizen_df.show()"
      ],
      "metadata": {
        "colab": {
          "base_uri": "https://localhost:8080/"
        },
        "id": "aGFlX0RDW5ia",
        "outputId": "06dc6900-d268-45a7-a65d-3da5ecd544f3"
      },
      "execution_count": 74,
      "outputs": [
        {
          "output_type": "stream",
          "name": "stdout",
          "text": [
            "+----------+-------------+\n",
            "|customerID|SeniorCitizen|\n",
            "+----------+-------------+\n",
            "|7590-VHVEG|            0|\n",
            "|5575-GNVDE|            0|\n",
            "|3668-QPYBK|            0|\n",
            "|7795-CFOCW|            0|\n",
            "|9237-HQITU|            0|\n",
            "|9305-CDSKC|            0|\n",
            "|1452-KIOVK|            0|\n",
            "|6713-OKOMC|            0|\n",
            "|7892-POOKP|            0|\n",
            "|6388-TABGU|            0|\n",
            "|9763-GRSKD|            0|\n",
            "|7469-LKBCI|            0|\n",
            "|8091-TTVAX|            0|\n",
            "|0280-XJGEX|            0|\n",
            "|5129-JLPIS|            0|\n",
            "|3655-SNQYZ|            0|\n",
            "|8191-XWSZG|            0|\n",
            "|9959-WOFKT|            0|\n",
            "|4190-MFLUW|            0|\n",
            "|4183-MYFRB|            0|\n",
            "+----------+-------------+\n",
            "only showing top 20 rows\n",
            "\n"
          ]
        }
      ]
    },
    {
      "cell_type": "markdown",
      "source": [
        "**Label**"
      ],
      "metadata": {
        "id": "zsvEsib2WJMJ"
      }
    },
    {
      "cell_type": "code",
      "source": [
        "label=df_spark.select('customerID','Churn').groupby('customerID','Churn').count()"
      ],
      "metadata": {
        "id": "4jttQYzPEajs"
      },
      "execution_count": 75,
      "outputs": []
    },
    {
      "cell_type": "code",
      "source": [
        "label=label.drop('count')"
      ],
      "metadata": {
        "id": "jouAdSuGSBIG"
      },
      "execution_count": 76,
      "outputs": []
    },
    {
      "cell_type": "code",
      "source": [
        "label.count()"
      ],
      "metadata": {
        "colab": {
          "base_uri": "https://localhost:8080/"
        },
        "id": "vb1bR1tGSUc8",
        "outputId": "d80a4227-76e8-4943-b926-282dbe8ad9f5"
      },
      "execution_count": 77,
      "outputs": [
        {
          "output_type": "execute_result",
          "data": {
            "text/plain": [
              "7043"
            ]
          },
          "metadata": {},
          "execution_count": 77
        }
      ]
    },
    {
      "cell_type": "code",
      "source": [
        "label=label.withColumnRenamed('Churn','label')"
      ],
      "metadata": {
        "id": "ndGNyS_zSbQA"
      },
      "execution_count": 78,
      "outputs": []
    },
    {
      "cell_type": "code",
      "source": [
        "label.show()"
      ],
      "metadata": {
        "colab": {
          "base_uri": "https://localhost:8080/"
        },
        "id": "cx6Zl7GaSn1Y",
        "outputId": "350b2e0b-b000-47bf-96ac-32b03221140e"
      },
      "execution_count": 79,
      "outputs": [
        {
          "output_type": "stream",
          "name": "stdout",
          "text": [
            "+----------+-----+\n",
            "|customerID|label|\n",
            "+----------+-----+\n",
            "|4767-HZZHQ|    0|\n",
            "|2080-SRCDE|    0|\n",
            "|3859-CVCET|    1|\n",
            "|0042-RLHYP|    0|\n",
            "|4945-RVMTE|    0|\n",
            "|9546-CQJSU|    1|\n",
            "|1925-GMVBW|    0|\n",
            "|5628-FCGYG|    0|\n",
            "|8064-RAVOH|    0|\n",
            "|2809-ILCYT|    0|\n",
            "|1465-WCZVT|    0|\n",
            "|2739-CCZMB|    0|\n",
            "|2696-RZVZW|    0|\n",
            "|9220-CXRSC|    0|\n",
            "|4626-OZDTJ|    0|\n",
            "|0946-CLJTI|    1|\n",
            "|5485-WUYWF|    1|\n",
            "|4729-XKASR|    1|\n",
            "|5480-TBGPH|    1|\n",
            "|6413-XKKPU|    1|\n",
            "+----------+-----+\n",
            "only showing top 20 rows\n",
            "\n"
          ]
        }
      ]
    },
    {
      "cell_type": "markdown",
      "source": [
        "## Construct Features Dataset\n",
        "\n",
        "With our features identified, the next step is to merge them based on userId."
      ],
      "metadata": {
        "id": "Q_In7-l1SviA"
      }
    },
    {
      "cell_type": "code",
      "source": [
        "feature_df=gender_df.join(df2,['customerID']).join(InternetService_df,['customerID']).join(PhoneService_df,['customerID']).join(SeniorCitizen_df,['customerID']).join(label,['customerID'])"
      ],
      "metadata": {
        "id": "TvBs6hfqSsso"
      },
      "execution_count": 81,
      "outputs": []
    },
    {
      "cell_type": "code",
      "source": [
        "feature_df.show()"
      ],
      "metadata": {
        "colab": {
          "base_uri": "https://localhost:8080/"
        },
        "id": "879DbAK9ZMz3",
        "outputId": "889bb8e4-9984-4fa1-839d-1c7263495137"
      },
      "execution_count": 82,
      "outputs": [
        {
          "output_type": "stream",
          "name": "stdout",
          "text": [
            "+----------+------+-------------+---------------+------------+-------------+-----+\n",
            "|customerID|gender|PaymentMethod|InternetService|PhoneService|SeniorCitizen|label|\n",
            "+----------+------+-------------+---------------+------------+-------------+-----+\n",
            "|6467-CHFZW|     0|            4|              1|           1|            0|    1|\n",
            "|4443-EMBNA|     1|            3|              0|           1|            0|    0|\n",
            "|9396-ZSFLL|     1|            2|              2|           1|            0|    0|\n",
            "|0139-IVFJG|     1|            4|              1|           1|            0|    0|\n",
            "|4335-BSMJS|     1|            1|              0|           1|            0|    0|\n",
            "|3643-AHCFP|     0|            3|              1|           1|            1|    1|\n",
            "|2176-LVPNX|     1|            2|              2|           1|            1|    0|\n",
            "|7979-CORPM|     0|            1|              1|           1|            0|    1|\n",
            "|9337-SRRNI|     0|            1|              0|           1|            0|    0|\n",
            "|9546-CQJSU|     1|            4|              1|           1|            0|    1|\n",
            "|1958-RNRKS|     0|            4|              2|           1|            0|    0|\n",
            "|5136-KCKGI|     1|            2|              1|           1|            0|    1|\n",
            "|7548-SEPYI|     1|            4|              1|           1|            0|    1|\n",
            "|0023-UYUPN|     1|            4|              0|           1|            1|    0|\n",
            "|8348-HFYIV|     0|            4|              2|           0|            0|    1|\n",
            "|2250-IVBWA|     0|            4|              1|           1|            0|    0|\n",
            "|1400-WIVLL|     0|            4|              1|           1|            0|    0|\n",
            "|2817-LVCPP|     1|            1|              0|           1|            0|    0|\n",
            "|3896-ZVNET|     1|            2|              0|           1|            0|    0|\n",
            "|4324-BZCKL|     1|            2|              2|           1|            0|    0|\n",
            "+----------+------+-------------+---------------+------------+-------------+-----+\n",
            "only showing top 20 rows\n",
            "\n"
          ]
        }
      ]
    },
    {
      "cell_type": "code",
      "source": [
        "feature_df=feature_df.drop('customerID')"
      ],
      "metadata": {
        "id": "UGJzJC1uZSYC"
      },
      "execution_count": 83,
      "outputs": []
    },
    {
      "cell_type": "code",
      "source": [
        "feature_df.show()"
      ],
      "metadata": {
        "colab": {
          "base_uri": "https://localhost:8080/"
        },
        "id": "uObEhiHUZZM-",
        "outputId": "36463f81-dc3d-4182-c2c6-d40c64f7318a"
      },
      "execution_count": 84,
      "outputs": [
        {
          "output_type": "stream",
          "name": "stdout",
          "text": [
            "+------+-------------+---------------+------------+-------------+-----+\n",
            "|gender|PaymentMethod|InternetService|PhoneService|SeniorCitizen|label|\n",
            "+------+-------------+---------------+------------+-------------+-----+\n",
            "|     0|            4|              1|           1|            0|    1|\n",
            "|     1|            3|              0|           1|            0|    0|\n",
            "|     1|            2|              2|           1|            0|    0|\n",
            "|     1|            4|              1|           1|            0|    0|\n",
            "|     1|            1|              0|           1|            0|    0|\n",
            "|     0|            3|              1|           1|            1|    1|\n",
            "|     1|            2|              2|           1|            1|    0|\n",
            "|     0|            1|              1|           1|            0|    1|\n",
            "|     0|            1|              0|           1|            0|    0|\n",
            "|     1|            4|              1|           1|            0|    1|\n",
            "|     0|            4|              2|           1|            0|    0|\n",
            "|     1|            2|              1|           1|            0|    1|\n",
            "|     1|            4|              1|           1|            0|    1|\n",
            "|     1|            4|              0|           1|            1|    0|\n",
            "|     0|            4|              2|           0|            0|    1|\n",
            "|     0|            4|              1|           1|            0|    0|\n",
            "|     0|            4|              1|           1|            0|    0|\n",
            "|     1|            1|              0|           1|            0|    0|\n",
            "|     1|            2|              0|           1|            0|    0|\n",
            "|     1|            2|              2|           1|            0|    0|\n",
            "+------+-------------+---------------+------------+-------------+-----+\n",
            "only showing top 20 rows\n",
            "\n"
          ]
        }
      ]
    },
    {
      "cell_type": "markdown",
      "source": [
        "With our dataframe now containing all the necessary features for each user, we can proceed to integrate it into our model. However, we must first perform some preprocessing steps."
      ],
      "metadata": {
        "id": "EDwEjJX7ZrXz"
      }
    },
    {
      "cell_type": "markdown",
      "source": [
        "\n",
        "## Preprocessing"
      ],
      "metadata": {
        "id": "9nYXbkQ6ZuQ9"
      }
    },
    {
      "cell_type": "code",
      "source": [
        "feature_df.printSchema()"
      ],
      "metadata": {
        "colab": {
          "base_uri": "https://localhost:8080/"
        },
        "id": "vgk30aVRZtnZ",
        "outputId": "499c956d-1083-415b-eae2-7a97c3dd2edd"
      },
      "execution_count": 85,
      "outputs": [
        {
          "output_type": "stream",
          "name": "stdout",
          "text": [
            "root\n",
            " |-- gender: integer (nullable = false)\n",
            " |-- PaymentMethod: integer (nullable = false)\n",
            " |-- InternetService: integer (nullable = false)\n",
            " |-- PhoneService: integer (nullable = false)\n",
            " |-- SeniorCitizen: integer (nullable = true)\n",
            " |-- label: integer (nullable = false)\n",
            "\n"
          ]
        }
      ]
    },
    {
      "cell_type": "markdown",
      "source": [
        "Next, we need to transform these columns into numerical data types, such as integers and floats, for use in our model. To maintain the DRY (Don’t Repeat Yourself) principle, we can write a function for this conversion."
      ],
      "metadata": {
        "id": "4z6XkHrKaQnd"
      }
    },
    {
      "cell_type": "code",
      "source": [
        "for feature in feature_df.columns:\n",
        "  feature_df=feature_df.withColumn(feature,feature_df[feature].cast('float'))"
      ],
      "metadata": {
        "id": "CGxEkMrjaS_f"
      },
      "execution_count": 86,
      "outputs": []
    },
    {
      "cell_type": "code",
      "source": [
        "#check this works\n",
        "feature_df.printSchema()"
      ],
      "metadata": {
        "colab": {
          "base_uri": "https://localhost:8080/"
        },
        "id": "Bz_OjZ9IanEb",
        "outputId": "9a9c2193-028f-4b63-d675-2c7a352dc219"
      },
      "execution_count": 87,
      "outputs": [
        {
          "output_type": "stream",
          "name": "stdout",
          "text": [
            "root\n",
            " |-- gender: float (nullable = false)\n",
            " |-- PaymentMethod: float (nullable = false)\n",
            " |-- InternetService: float (nullable = false)\n",
            " |-- PhoneService: float (nullable = false)\n",
            " |-- SeniorCitizen: float (nullable = true)\n",
            " |-- label: float (nullable = false)\n",
            "\n"
          ]
        }
      ]
    },
    {
      "cell_type": "markdown",
      "source": [
        "The next step in preprocessing is to convert our features into vectors."
      ],
      "metadata": {
        "id": "7P8j6fRaa0mE"
      }
    },
    {
      "cell_type": "markdown",
      "source": [
        "Vector Assembler\n",
        "The purpose of vector assembler is to tranform our features into a vector. The vector can then be standardised and fed into our chosen algorithms."
      ],
      "metadata": {
        "id": "AFvGE0Qma7mv"
      }
    },
    {
      "cell_type": "code",
      "source": [
        "assembler = VectorAssembler(inputCols = [\"gender\", \"PaymentMethod\", \"InternetService\", \"PhoneService\", \"SeniorCitizen\"], outputCol = \"vec_features\")"
      ],
      "metadata": {
        "id": "i4PFdFMza2hc"
      },
      "execution_count": 88,
      "outputs": []
    },
    {
      "cell_type": "code",
      "source": [
        "feature_df=assembler.transform(feature_df)"
      ],
      "metadata": {
        "id": "MIk4HSl-bM9k"
      },
      "execution_count": 89,
      "outputs": []
    },
    {
      "cell_type": "code",
      "source": [
        "feature_df.show()"
      ],
      "metadata": {
        "colab": {
          "base_uri": "https://localhost:8080/"
        },
        "id": "_QxSCL4ibVGw",
        "outputId": "bdc23637-34ce-4f1f-9544-29a593bbb0c9"
      },
      "execution_count": 90,
      "outputs": [
        {
          "output_type": "stream",
          "name": "stdout",
          "text": [
            "+------+-------------+---------------+------------+-------------+-----+--------------------+\n",
            "|gender|PaymentMethod|InternetService|PhoneService|SeniorCitizen|label|        vec_features|\n",
            "+------+-------------+---------------+------------+-------------+-----+--------------------+\n",
            "|   0.0|          4.0|            1.0|         1.0|          0.0|  1.0|[0.0,4.0,1.0,1.0,...|\n",
            "|   1.0|          3.0|            0.0|         1.0|          0.0|  0.0|[1.0,3.0,0.0,1.0,...|\n",
            "|   1.0|          2.0|            2.0|         1.0|          0.0|  0.0|[1.0,2.0,2.0,1.0,...|\n",
            "|   1.0|          4.0|            1.0|         1.0|          0.0|  0.0|[1.0,4.0,1.0,1.0,...|\n",
            "|   1.0|          1.0|            0.0|         1.0|          0.0|  0.0|[1.0,1.0,0.0,1.0,...|\n",
            "|   0.0|          3.0|            1.0|         1.0|          1.0|  1.0|[0.0,3.0,1.0,1.0,...|\n",
            "|   1.0|          2.0|            2.0|         1.0|          1.0|  0.0|[1.0,2.0,2.0,1.0,...|\n",
            "|   0.0|          1.0|            1.0|         1.0|          0.0|  1.0|[0.0,1.0,1.0,1.0,...|\n",
            "|   0.0|          1.0|            0.0|         1.0|          0.0|  0.0| (5,[1,3],[1.0,1.0])|\n",
            "|   1.0|          4.0|            1.0|         1.0|          0.0|  1.0|[1.0,4.0,1.0,1.0,...|\n",
            "|   0.0|          4.0|            2.0|         1.0|          0.0|  0.0|[0.0,4.0,2.0,1.0,...|\n",
            "|   1.0|          2.0|            1.0|         1.0|          0.0|  1.0|[1.0,2.0,1.0,1.0,...|\n",
            "|   1.0|          4.0|            1.0|         1.0|          0.0|  1.0|[1.0,4.0,1.0,1.0,...|\n",
            "|   1.0|          4.0|            0.0|         1.0|          1.0|  0.0|[1.0,4.0,0.0,1.0,...|\n",
            "|   0.0|          4.0|            2.0|         0.0|          0.0|  1.0| (5,[1,2],[4.0,2.0])|\n",
            "|   0.0|          4.0|            1.0|         1.0|          0.0|  0.0|[0.0,4.0,1.0,1.0,...|\n",
            "|   0.0|          4.0|            1.0|         1.0|          0.0|  0.0|[0.0,4.0,1.0,1.0,...|\n",
            "|   1.0|          1.0|            0.0|         1.0|          0.0|  0.0|[1.0,1.0,0.0,1.0,...|\n",
            "|   1.0|          2.0|            0.0|         1.0|          0.0|  0.0|[1.0,2.0,0.0,1.0,...|\n",
            "|   1.0|          2.0|            2.0|         1.0|          0.0|  0.0|[1.0,2.0,2.0,1.0,...|\n",
            "+------+-------------+---------------+------------+-------------+-----+--------------------+\n",
            "only showing top 20 rows\n",
            "\n"
          ]
        }
      ]
    },
    {
      "cell_type": "markdown",
      "source": [
        "## Standardisation"
      ],
      "metadata": {
        "id": "ZtdcEtQBb_tQ"
      }
    },
    {
      "cell_type": "code",
      "source": [
        "scaler = StandardScaler(inputCol=\"vec_features\", outputCol=\"features\", withStd=True)"
      ],
      "metadata": {
        "id": "tgadWIYJb0Rk"
      },
      "execution_count": 91,
      "outputs": []
    },
    {
      "cell_type": "code",
      "source": [
        "scaler_model = scaler.fit(feature_df)"
      ],
      "metadata": {
        "id": "eqZf88DbbrTH"
      },
      "execution_count": 92,
      "outputs": []
    },
    {
      "cell_type": "code",
      "source": [
        "feature_df = scaler_model.transform(feature_df)"
      ],
      "metadata": {
        "id": "QSkh9V4Bb24Q"
      },
      "execution_count": 93,
      "outputs": []
    },
    {
      "cell_type": "code",
      "source": [
        "feature_df.head(2)"
      ],
      "metadata": {
        "colab": {
          "base_uri": "https://localhost:8080/"
        },
        "id": "_keLc9YHb4bU",
        "outputId": "30a9ed1b-5d28-4ea0-8d9a-dafbfe3b8f6f"
      },
      "execution_count": 94,
      "outputs": [
        {
          "output_type": "execute_result",
          "data": {
            "text/plain": [
              "[Row(gender=0.0, PaymentMethod=4.0, InternetService=1.0, PhoneService=1.0, SeniorCitizen=0.0, label=1.0, vec_features=DenseVector([0.0, 4.0, 1.0, 1.0, 0.0]), features=DenseVector([0.0, 3.477, 1.3554, 3.3812, 0.0])),\n",
              " Row(gender=1.0, PaymentMethod=3.0, InternetService=0.0, PhoneService=1.0, SeniorCitizen=0.0, label=0.0, vec_features=DenseVector([1.0, 3.0, 0.0, 1.0, 0.0]), features=DenseVector([1.9999, 2.6078, 0.0, 3.3812, 0.0]))]"
            ]
          },
          "metadata": {},
          "execution_count": 94
        }
      ]
    },
    {
      "cell_type": "markdown",
      "source": [
        "## Partitioning the Data into Training, Testing, and Validation Sets"
      ],
      "metadata": {
        "id": "KTPu6d19cHyv"
      }
    },
    {
      "cell_type": "code",
      "source": [
        "feature_df.groupby('label').count().show()"
      ],
      "metadata": {
        "colab": {
          "base_uri": "https://localhost:8080/"
        },
        "id": "6Gv4cVA-cHMO",
        "outputId": "8f2f5b03-7f39-4079-bcdd-3893181988c5"
      },
      "execution_count": 95,
      "outputs": [
        {
          "output_type": "stream",
          "name": "stdout",
          "text": [
            "+-----+-----+\n",
            "|label|count|\n",
            "+-----+-----+\n",
            "|  1.0| 1869|\n",
            "|  0.0| 5174|\n",
            "+-----+-----+\n",
            "\n"
          ]
        }
      ]
    },
    {
      "cell_type": "markdown",
      "source": [
        "Splitting the Data into Training (60%), Validation (20%), and Test (20%) Sets"
      ],
      "metadata": {
        "id": "0V8WUMr1cm5b"
      }
    },
    {
      "cell_type": "code",
      "source": [
        "train, test, valid = feature_df.randomSplit([0.6, 0.2, 0.2], seed = 1996)\n",
        "print(\"Training Dataset:\" + str(train.count()))\n",
        "print(\"Test Dataset:\" + str(test.count()))\n",
        "print(\"Validation Dataset:\" + str(valid.count()))"
      ],
      "metadata": {
        "colab": {
          "base_uri": "https://localhost:8080/"
        },
        "id": "ZDGDBl6EcpnU",
        "outputId": "2cbc249d-11e4-4d4c-c854-a01a8cb141bf"
      },
      "execution_count": 118,
      "outputs": [
        {
          "output_type": "stream",
          "name": "stdout",
          "text": [
            "Training Dataset:4225\n",
            "Test Dataset:1453\n",
            "Validation Dataset:1365\n"
          ]
        }
      ]
    },
    {
      "cell_type": "markdown",
      "source": [
        "## Modelling\n",
        "\n",
        "With the features DataFrame now containing only numeric variables,I will evaluate various machine learning classification algorithms, including:\n",
        "\n",
        "* Logistic Regression\n",
        "* Random Forest Classifier\n",
        "* Gradient-Boosted Tree Classifier\n",
        "* Linear Support Vector Machine\n",
        "* Naive Bayes\n",
        "\n",
        "\n",
        "These algorithms are suitable for churn prediction, a binary classification problem where customers either churn (1) or remain (0) within a specified period."
      ],
      "metadata": {
        "id": "RPtqnodcdPLn"
      }
    },
    {
      "cell_type": "code",
      "source": [
        "# instantiate all of our models and include a seed for reproduciblity where possible\n",
        "lr = LogisticRegression(featuresCol = 'features', labelCol = 'label', maxIter=10)\n",
        "rf = RandomForestClassifier(featuresCol = 'features', labelCol = 'label', seed=1996)\n",
        "gbt = GBTClassifier(featuresCol = 'features', labelCol = 'label', maxIter=10, seed=1996)\n",
        "lsvc = LinearSVC(featuresCol = 'features', labelCol = 'label')\n",
        "nb = NaiveBayes(featuresCol = 'features', labelCol = 'label')"
      ],
      "metadata": {
        "id": "8mOyxCV4eLsK"
      },
      "execution_count": 119,
      "outputs": []
    },
    {
      "cell_type": "code",
      "source": [
        "#list of models\n",
        "model_list = [lr,rf,gbt,lsvc,nb]"
      ],
      "metadata": {
        "id": "KIhqS3BfePft"
      },
      "execution_count": 120,
      "outputs": []
    },
    {
      "cell_type": "code",
      "source": [
        "# evaluator we are using is multiclassclassificationevaluator to get the F1 scores\n",
        "evaluator = MulticlassClassificationEvaluator(labelCol = 'label', predictionCol='prediction')"
      ],
      "metadata": {
        "id": "f2S6DspQgED3"
      },
      "execution_count": 121,
      "outputs": []
    },
    {
      "cell_type": "code",
      "source": [
        "# for loop to go through all our models\n",
        "for model in model_list:\n",
        "    # get model name\n",
        "    model_name = model.__class__.__name__\n",
        "\n",
        "    # print training started\n",
        "    print(model_name, 'training started')\n",
        "\n",
        "    # start time\n",
        "    start = time.time()\n",
        "    # fit the models on train dataset\n",
        "    model = model.fit(train)\n",
        "    # end time\n",
        "    end = time.time()\n",
        "\n",
        "    # print training ended\n",
        "    print(model_name, 'training ended')\n",
        "    # print time taken\n",
        "    print('Time taken for {} is:'.format(model_name),(end-start),'seconds')\n",
        "\n",
        "    # predict\n",
        "    print(model_name, 'predicting started')\n",
        "    predictions = model.transform(valid)\n",
        "    print(model_name, 'predicting ended')\n",
        "\n",
        "    # get metrics to evaluate\n",
        "    # f1\n",
        "    print('F1 for {} is:'.format(model_name), evaluator.evaluate(predictions, {evaluator.metricName: \"f1\"}))\n",
        "    # accuracy\n",
        "    accuracy = predictions.filter(predictions.label == predictions.prediction).count() / (predictions.count())\n",
        "    print(\"The accuracy of the {} model is:\".format(model_name), accuracy)"
      ],
      "metadata": {
        "colab": {
          "base_uri": "https://localhost:8080/"
        },
        "id": "__MUmmMUeQpg",
        "outputId": "45eefb5b-32d1-4fcb-d607-cc515edbda49"
      },
      "execution_count": 122,
      "outputs": [
        {
          "output_type": "stream",
          "name": "stdout",
          "text": [
            "LogisticRegression training started\n",
            "LogisticRegression training ended\n",
            "Time taken for LogisticRegression is: 8.317015886306763 seconds\n",
            "LogisticRegression predicting started\n",
            "LogisticRegression predicting ended\n",
            "F1 for LogisticRegression is: 0.6784395398982949\n",
            "The accuracy of the LogisticRegression model is: 0.7333333333333333\n",
            "RandomForestClassifier training started\n",
            "RandomForestClassifier training ended\n",
            "Time taken for RandomForestClassifier is: 10.489774227142334 seconds\n",
            "RandomForestClassifier predicting started\n",
            "RandomForestClassifier predicting ended\n",
            "F1 for RandomForestClassifier is: 0.6725293203615935\n",
            "The accuracy of the RandomForestClassifier model is: 0.7347985347985349\n",
            "GBTClassifier training started\n",
            "GBTClassifier training ended\n",
            "Time taken for GBTClassifier is: 9.25431227684021 seconds\n",
            "GBTClassifier predicting started\n",
            "GBTClassifier predicting ended\n",
            "F1 for GBTClassifier is: 0.7218667365572697\n",
            "The accuracy of the GBTClassifier model is: 0.7413919413919414\n",
            "LinearSVC training started\n",
            "LinearSVC training ended\n",
            "Time taken for LinearSVC is: 16.497913360595703 seconds\n",
            "LinearSVC predicting started\n",
            "LinearSVC predicting ended\n",
            "F1 for LinearSVC is: 0.6156303670916122\n",
            "The accuracy of the LinearSVC model is: 0.7296703296703296\n",
            "NaiveBayes training started\n",
            "NaiveBayes training ended\n",
            "Time taken for NaiveBayes is: 3.803549289703369 seconds\n",
            "NaiveBayes predicting started\n",
            "NaiveBayes predicting ended\n",
            "F1 for NaiveBayes is: 0.6740874510105279\n",
            "The accuracy of the NaiveBayes model is: 0.7054945054945055\n"
          ]
        }
      ]
    },
    {
      "cell_type": "markdown",
      "source": [
        "## Model Tuning for Best Models:\n",
        "Now I can proceed with tuning the model using ParamGridBuilder and CrossValidator. I have chosen to go with the Naive Bayes model as it offers the best balance between F1 score, accuracy, and runtime efficiency. The Naive Bayes model achieved an F1 score of 0.6741 and an accuracy of 70.55%, with a runtime of just 3.77 seconds. In comparison, other models took significantly longer to run while achieving similar or slightly better scores."
      ],
      "metadata": {
        "id": "f08l6j3lgnKM"
      }
    },
    {
      "cell_type": "markdown",
      "source": [
        "**NaiveBayes**"
      ],
      "metadata": {
        "id": "i3pjyytIjFKU"
      }
    },
    {
      "cell_type": "code",
      "source": [
        "#Let's see what parameters we can tune.\n",
        "print(nb.explainParams())"
      ],
      "metadata": {
        "colab": {
          "base_uri": "https://localhost:8080/"
        },
        "id": "ccn98s1Ji3NF",
        "outputId": "b244048a-ed73-4a12-9699-f5036b7feeac"
      },
      "execution_count": 123,
      "outputs": [
        {
          "output_type": "stream",
          "name": "stdout",
          "text": [
            "featuresCol: features column name. (default: features, current: features)\n",
            "labelCol: label column name. (default: label, current: label)\n",
            "modelType: The model type which is a string (case-sensitive). Supported options: multinomial (default), bernoulli and gaussian. (default: multinomial)\n",
            "predictionCol: prediction column name. (default: prediction)\n",
            "probabilityCol: Column name for predicted class conditional probabilities. Note: Not all models output well-calibrated probability estimates! These probabilities should be treated as confidences, not precise probabilities. (default: probability)\n",
            "rawPredictionCol: raw prediction (a.k.a. confidence) column name. (default: rawPrediction)\n",
            "smoothing: The smoothing parameter, should be >= 0, default is 1.0 (default: 1.0)\n",
            "thresholds: Thresholds in multi-class classification to adjust the probability of predicting each class. Array must have length equal to the number of classes, with values > 0, excepting that at most one value may be 0. The class with largest value p/t is predicted, where p is the original probability of that class and t is the class's threshold. (undefined)\n",
            "weightCol: weight column name. If this is not set or empty, we treat all instance weights as 1.0. (undefined)\n"
          ]
        }
      ]
    },
    {
      "cell_type": "code",
      "source": [
        "# Set up the parameter grid\n",
        "paramGrid = ParamGridBuilder() \\\n",
        "    .addGrid(nb.smoothing, [0.0, 0.5, 1.0]) \\\n",
        "    .addGrid(nb.modelType, ['multinomial', 'bernoulli']) \\\n",
        "    .build()\n",
        "\n",
        "\n",
        "crossval = CrossValidator(estimator=np,\n",
        "                          estimatorParamMaps=paramGrid,\n",
        "                          evaluator=MulticlassClassificationEvaluator(metricName = \"f1\"),\n",
        "                          numFolds=3)"
      ],
      "metadata": {
        "id": "cfbIdYWmjrq9"
      },
      "execution_count": 128,
      "outputs": []
    },
    {
      "cell_type": "code",
      "source": [
        "paramGrid = ParamGridBuilder() \\\n",
        "    .addGrid(rf.numTrees,[20, 50, 100]) \\\n",
        "    .addGrid(rf.maxDepth,[5, 10, 15]) \\\n",
        "    .build()\n",
        "\n",
        "\n",
        "crossval = CrossValidator(estimator=rf,\n",
        "                          estimatorParamMaps=paramGrid,\n",
        "                          evaluator=MulticlassClassificationEvaluator(metricName = \"f1\"),\n",
        "                          numFolds=3)"
      ],
      "metadata": {
        "id": "VqwygqKPnJFf"
      },
      "execution_count": 126,
      "outputs": []
    },
    {
      "cell_type": "code",
      "source": [
        "nb = NaiveBayes()\n",
        "\n",
        "# Set up the parameter grid\n",
        "paramGrid = ParamGridBuilder() \\\n",
        "    .addGrid(nb.smoothing, [0.0, 0.5, 1.0]) \\\n",
        "    .addGrid(nb.modelType, ['multinomial', 'bernoulli']) \\\n",
        "    .build()\n",
        "\n",
        "# Create an evaluator\n",
        "evaluator = MulticlassClassificationEvaluator(labelCol=\"label\", predictionCol=\"prediction\", metricName=\"f1\")\n",
        "\n",
        "# Set up the CrossValidator\n",
        "crossval = CrossValidator(estimator=nb,\n",
        "                          estimatorParamMaps=paramGrid,\n",
        "                          evaluator=evaluator,\n",
        "                          numFolds=5)  # Use 5-fold cross-validation\n",
        "\n",
        "# Fit the model\n",
        "cvModel = crossval.fit(train)\n",
        "\n",
        "# Make predictions on the test data\n",
        "predictions = cvModel.transform(test)\n",
        "\n",
        "# Evaluate the model\n",
        "f1_score = evaluator.evaluate(predictions)\n",
        "print(f\"F1 Score: {f1_score}\")"
      ],
      "metadata": {
        "colab": {
          "base_uri": "https://localhost:8080/",
          "height": 1000
        },
        "id": "SdZTq7mKoVJb",
        "outputId": "6a26df0c-ca65-4cd6-ed92-8ba62016452c"
      },
      "execution_count": 131,
      "outputs": [
        {
          "output_type": "error",
          "ename": "Py4JJavaError",
          "evalue": "An error occurred while calling o6552.fit.\n: org.apache.spark.SparkException: Job aborted due to stage failure: Task 1 in stage 3102.0 failed 1 times, most recent failure: Lost task 1.0 in stage 3102.0 (TID 22834) (5b91d0f6f1aa executor driver): java.lang.RuntimeException: Vector values MUST be in {0, 1}, but got [0.0,0.8692516013428768,1.3553875846108099,3.3812086352456543,0.0]\n\tat org.apache.spark.sql.catalyst.expressions.GeneratedClass$GeneratedIteratorForCodegenStage1.project_doConsume_0$(Unknown Source)\n\tat org.apache.spark.sql.catalyst.expressions.GeneratedClass$GeneratedIteratorForCodegenStage1.processNext(Unknown Source)\n\tat org.apache.spark.sql.execution.BufferedRowIterator.hasNext(BufferedRowIterator.java:43)\n\tat org.apache.spark.sql.execution.WholeStageCodegenEvaluatorFactory$WholeStageCodegenPartitionEvaluator$$anon$1.hasNext(WholeStageCodegenEvaluatorFactory.scala:43)\n\tat org.apache.spark.sql.execution.aggregate.ObjectHashAggregateExec.$anonfun$doExecute$1(ObjectHashAggregateExec.scala:92)\n\tat org.apache.spark.sql.execution.aggregate.ObjectHashAggregateExec.$anonfun$doExecute$1$adapted(ObjectHashAggregateExec.scala:90)\n\tat org.apache.spark.rdd.RDD.$anonfun$mapPartitionsWithIndexInternal$2(RDD.scala:880)\n\tat org.apache.spark.rdd.RDD.$anonfun$mapPartitionsWithIndexInternal$2$adapted(RDD.scala:880)\n\tat org.apache.spark.rdd.MapPartitionsRDD.compute(MapPartitionsRDD.scala:52)\n\tat org.apache.spark.rdd.RDD.computeOrReadCheckpoint(RDD.scala:367)\n\tat org.apache.spark.rdd.RDD.iterator(RDD.scala:331)\n\tat org.apache.spark.rdd.MapPartitionsRDD.compute(MapPartitionsRDD.scala:52)\n\tat org.apache.spark.rdd.RDD.computeOrReadCheckpoint(RDD.scala:367)\n\tat org.apache.spark.rdd.RDD.iterator(RDD.scala:331)\n\tat org.apache.spark.shuffle.ShuffleWriteProcessor.write(ShuffleWriteProcessor.scala:59)\n\tat org.apache.spark.scheduler.ShuffleMapTask.runTask(ShuffleMapTask.scala:104)\n\tat org.apache.spark.scheduler.ShuffleMapTask.runTask(ShuffleMapTask.scala:54)\n\tat org.apache.spark.TaskContext.runTaskWithListeners(TaskContext.scala:166)\n\tat org.apache.spark.scheduler.Task.run(Task.scala:141)\n\tat org.apache.spark.executor.Executor$TaskRunner.$anonfun$run$4(Executor.scala:620)\n\tat org.apache.spark.util.SparkErrorUtils.tryWithSafeFinally(SparkErrorUtils.scala:64)\n\tat org.apache.spark.util.SparkErrorUtils.tryWithSafeFinally$(SparkErrorUtils.scala:61)\n\tat org.apache.spark.util.Utils$.tryWithSafeFinally(Utils.scala:94)\n\tat org.apache.spark.executor.Executor$TaskRunner.run(Executor.scala:623)\n\tat java.base/java.util.concurrent.ThreadPoolExecutor.runWorker(ThreadPoolExecutor.java:1128)\n\tat java.base/java.util.concurrent.ThreadPoolExecutor$Worker.run(ThreadPoolExecutor.java:628)\n\tat java.base/java.lang.Thread.run(Thread.java:829)\n\nDriver stacktrace:\n\tat org.apache.spark.scheduler.DAGScheduler.failJobAndIndependentStages(DAGScheduler.scala:2856)\n\tat org.apache.spark.scheduler.DAGScheduler.$anonfun$abortStage$2(DAGScheduler.scala:2792)\n\tat org.apache.spark.scheduler.DAGScheduler.$anonfun$abortStage$2$adapted(DAGScheduler.scala:2791)\n\tat scala.collection.mutable.ResizableArray.foreach(ResizableArray.scala:62)\n\tat scala.collection.mutable.ResizableArray.foreach$(ResizableArray.scala:55)\n\tat scala.collection.mutable.ArrayBuffer.foreach(ArrayBuffer.scala:49)\n\tat org.apache.spark.scheduler.DAGScheduler.abortStage(DAGScheduler.scala:2791)\n\tat org.apache.spark.scheduler.DAGScheduler.$anonfun$handleTaskSetFailed$1(DAGScheduler.scala:1247)\n\tat org.apache.spark.scheduler.DAGScheduler.$anonfun$handleTaskSetFailed$1$adapted(DAGScheduler.scala:1247)\n\tat scala.Option.foreach(Option.scala:407)\n\tat org.apache.spark.scheduler.DAGScheduler.handleTaskSetFailed(DAGScheduler.scala:1247)\n\tat org.apache.spark.scheduler.DAGSchedulerEventProcessLoop.doOnReceive(DAGScheduler.scala:3060)\n\tat org.apache.spark.scheduler.DAGSchedulerEventProcessLoop.onReceive(DAGScheduler.scala:2994)\n\tat org.apache.spark.scheduler.DAGSchedulerEventProcessLoop.onReceive(DAGScheduler.scala:2983)\n\tat org.apache.spark.util.EventLoop$$anon$1.run(EventLoop.scala:49)\nCaused by: java.lang.RuntimeException: Vector values MUST be in {0, 1}, but got [0.0,0.8692516013428768,1.3553875846108099,3.3812086352456543,0.0]\n\tat org.apache.spark.sql.catalyst.expressions.GeneratedClass$GeneratedIteratorForCodegenStage1.project_doConsume_0$(Unknown Source)\n\tat org.apache.spark.sql.catalyst.expressions.GeneratedClass$GeneratedIteratorForCodegenStage1.processNext(Unknown Source)\n\tat org.apache.spark.sql.execution.BufferedRowIterator.hasNext(BufferedRowIterator.java:43)\n\tat org.apache.spark.sql.execution.WholeStageCodegenEvaluatorFactory$WholeStageCodegenPartitionEvaluator$$anon$1.hasNext(WholeStageCodegenEvaluatorFactory.scala:43)\n\tat org.apache.spark.sql.execution.aggregate.ObjectHashAggregateExec.$anonfun$doExecute$1(ObjectHashAggregateExec.scala:92)\n\tat org.apache.spark.sql.execution.aggregate.ObjectHashAggregateExec.$anonfun$doExecute$1$adapted(ObjectHashAggregateExec.scala:90)\n\tat org.apache.spark.rdd.RDD.$anonfun$mapPartitionsWithIndexInternal$2(RDD.scala:880)\n\tat org.apache.spark.rdd.RDD.$anonfun$mapPartitionsWithIndexInternal$2$adapted(RDD.scala:880)\n\tat org.apache.spark.rdd.MapPartitionsRDD.compute(MapPartitionsRDD.scala:52)\n\tat org.apache.spark.rdd.RDD.computeOrReadCheckpoint(RDD.scala:367)\n\tat org.apache.spark.rdd.RDD.iterator(RDD.scala:331)\n\tat org.apache.spark.rdd.MapPartitionsRDD.compute(MapPartitionsRDD.scala:52)\n\tat org.apache.spark.rdd.RDD.computeOrReadCheckpoint(RDD.scala:367)\n\tat org.apache.spark.rdd.RDD.iterator(RDD.scala:331)\n\tat org.apache.spark.shuffle.ShuffleWriteProcessor.write(ShuffleWriteProcessor.scala:59)\n\tat org.apache.spark.scheduler.ShuffleMapTask.runTask(ShuffleMapTask.scala:104)\n\tat org.apache.spark.scheduler.ShuffleMapTask.runTask(ShuffleMapTask.scala:54)\n\tat org.apache.spark.TaskContext.runTaskWithListeners(TaskContext.scala:166)\n\tat org.apache.spark.scheduler.Task.run(Task.scala:141)\n\tat org.apache.spark.executor.Executor$TaskRunner.$anonfun$run$4(Executor.scala:620)\n\tat org.apache.spark.util.SparkErrorUtils.tryWithSafeFinally(SparkErrorUtils.scala:64)\n\tat org.apache.spark.util.SparkErrorUtils.tryWithSafeFinally$(SparkErrorUtils.scala:61)\n\tat org.apache.spark.util.Utils$.tryWithSafeFinally(Utils.scala:94)\n\tat org.apache.spark.executor.Executor$TaskRunner.run(Executor.scala:623)\n\tat java.base/java.util.concurrent.ThreadPoolExecutor.runWorker(ThreadPoolExecutor.java:1128)\n\tat java.base/java.util.concurrent.ThreadPoolExecutor$Worker.run(ThreadPoolExecutor.java:628)\n\tat java.base/java.lang.Thread.run(Thread.java:829)\n",
          "traceback": [
            "\u001b[0;31m---------------------------------------------------------------------------\u001b[0m",
            "\u001b[0;31mPy4JJavaError\u001b[0m                             Traceback (most recent call last)",
            "\u001b[0;32m<ipython-input-131-271e570c7faf>\u001b[0m in \u001b[0;36m<cell line: 19>\u001b[0;34m()\u001b[0m\n\u001b[1;32m     17\u001b[0m \u001b[0;34m\u001b[0m\u001b[0m\n\u001b[1;32m     18\u001b[0m \u001b[0;31m# Fit the model\u001b[0m\u001b[0;34m\u001b[0m\u001b[0;34m\u001b[0m\u001b[0m\n\u001b[0;32m---> 19\u001b[0;31m \u001b[0mcvModel\u001b[0m \u001b[0;34m=\u001b[0m \u001b[0mcrossval\u001b[0m\u001b[0;34m.\u001b[0m\u001b[0mfit\u001b[0m\u001b[0;34m(\u001b[0m\u001b[0mtrain\u001b[0m\u001b[0;34m)\u001b[0m\u001b[0;34m\u001b[0m\u001b[0;34m\u001b[0m\u001b[0m\n\u001b[0m\u001b[1;32m     20\u001b[0m \u001b[0;34m\u001b[0m\u001b[0m\n\u001b[1;32m     21\u001b[0m \u001b[0;31m# Make predictions on the test data\u001b[0m\u001b[0;34m\u001b[0m\u001b[0;34m\u001b[0m\u001b[0m\n",
            "\u001b[0;32m/usr/local/lib/python3.10/dist-packages/pyspark/ml/base.py\u001b[0m in \u001b[0;36mfit\u001b[0;34m(self, dataset, params)\u001b[0m\n\u001b[1;32m    203\u001b[0m                 \u001b[0;32mreturn\u001b[0m \u001b[0mself\u001b[0m\u001b[0;34m.\u001b[0m\u001b[0mcopy\u001b[0m\u001b[0;34m(\u001b[0m\u001b[0mparams\u001b[0m\u001b[0;34m)\u001b[0m\u001b[0;34m.\u001b[0m\u001b[0m_fit\u001b[0m\u001b[0;34m(\u001b[0m\u001b[0mdataset\u001b[0m\u001b[0;34m)\u001b[0m\u001b[0;34m\u001b[0m\u001b[0;34m\u001b[0m\u001b[0m\n\u001b[1;32m    204\u001b[0m             \u001b[0;32melse\u001b[0m\u001b[0;34m:\u001b[0m\u001b[0;34m\u001b[0m\u001b[0;34m\u001b[0m\u001b[0m\n\u001b[0;32m--> 205\u001b[0;31m                 \u001b[0;32mreturn\u001b[0m \u001b[0mself\u001b[0m\u001b[0;34m.\u001b[0m\u001b[0m_fit\u001b[0m\u001b[0;34m(\u001b[0m\u001b[0mdataset\u001b[0m\u001b[0;34m)\u001b[0m\u001b[0;34m\u001b[0m\u001b[0;34m\u001b[0m\u001b[0m\n\u001b[0m\u001b[1;32m    206\u001b[0m         \u001b[0;32melse\u001b[0m\u001b[0;34m:\u001b[0m\u001b[0;34m\u001b[0m\u001b[0;34m\u001b[0m\u001b[0m\n\u001b[1;32m    207\u001b[0m             raise TypeError(\n",
            "\u001b[0;32m/usr/local/lib/python3.10/dist-packages/pyspark/ml/tuning.py\u001b[0m in \u001b[0;36m_fit\u001b[0;34m(self, dataset)\u001b[0m\n\u001b[1;32m    845\u001b[0m                 \u001b[0m_parallelFitTasks\u001b[0m\u001b[0;34m(\u001b[0m\u001b[0mest\u001b[0m\u001b[0;34m,\u001b[0m \u001b[0mtrain\u001b[0m\u001b[0;34m,\u001b[0m \u001b[0meva\u001b[0m\u001b[0;34m,\u001b[0m \u001b[0mvalidation\u001b[0m\u001b[0;34m,\u001b[0m \u001b[0mepm\u001b[0m\u001b[0;34m,\u001b[0m \u001b[0mcollectSubModelsParam\u001b[0m\u001b[0;34m)\u001b[0m\u001b[0;34m,\u001b[0m\u001b[0;34m\u001b[0m\u001b[0;34m\u001b[0m\u001b[0m\n\u001b[1;32m    846\u001b[0m             )\n\u001b[0;32m--> 847\u001b[0;31m             \u001b[0;32mfor\u001b[0m \u001b[0mj\u001b[0m\u001b[0;34m,\u001b[0m \u001b[0mmetric\u001b[0m\u001b[0;34m,\u001b[0m \u001b[0msubModel\u001b[0m \u001b[0;32min\u001b[0m \u001b[0mpool\u001b[0m\u001b[0;34m.\u001b[0m\u001b[0mimap_unordered\u001b[0m\u001b[0;34m(\u001b[0m\u001b[0;32mlambda\u001b[0m \u001b[0mf\u001b[0m\u001b[0;34m:\u001b[0m \u001b[0mf\u001b[0m\u001b[0;34m(\u001b[0m\u001b[0;34m)\u001b[0m\u001b[0;34m,\u001b[0m \u001b[0mtasks\u001b[0m\u001b[0;34m)\u001b[0m\u001b[0;34m:\u001b[0m\u001b[0;34m\u001b[0m\u001b[0;34m\u001b[0m\u001b[0m\n\u001b[0m\u001b[1;32m    848\u001b[0m                 \u001b[0mmetrics_all\u001b[0m\u001b[0;34m[\u001b[0m\u001b[0mi\u001b[0m\u001b[0;34m]\u001b[0m\u001b[0;34m[\u001b[0m\u001b[0mj\u001b[0m\u001b[0;34m]\u001b[0m \u001b[0;34m=\u001b[0m \u001b[0mmetric\u001b[0m\u001b[0;34m\u001b[0m\u001b[0;34m\u001b[0m\u001b[0m\n\u001b[1;32m    849\u001b[0m                 \u001b[0;32mif\u001b[0m \u001b[0mcollectSubModelsParam\u001b[0m\u001b[0;34m:\u001b[0m\u001b[0;34m\u001b[0m\u001b[0;34m\u001b[0m\u001b[0m\n",
            "\u001b[0;32m/usr/lib/python3.10/multiprocessing/pool.py\u001b[0m in \u001b[0;36mnext\u001b[0;34m(self, timeout)\u001b[0m\n\u001b[1;32m    871\u001b[0m         \u001b[0;32mif\u001b[0m \u001b[0msuccess\u001b[0m\u001b[0;34m:\u001b[0m\u001b[0;34m\u001b[0m\u001b[0;34m\u001b[0m\u001b[0m\n\u001b[1;32m    872\u001b[0m             \u001b[0;32mreturn\u001b[0m \u001b[0mvalue\u001b[0m\u001b[0;34m\u001b[0m\u001b[0;34m\u001b[0m\u001b[0m\n\u001b[0;32m--> 873\u001b[0;31m         \u001b[0;32mraise\u001b[0m \u001b[0mvalue\u001b[0m\u001b[0;34m\u001b[0m\u001b[0;34m\u001b[0m\u001b[0m\n\u001b[0m\u001b[1;32m    874\u001b[0m \u001b[0;34m\u001b[0m\u001b[0m\n\u001b[1;32m    875\u001b[0m     \u001b[0m__next__\u001b[0m \u001b[0;34m=\u001b[0m \u001b[0mnext\u001b[0m                    \u001b[0;31m# XXX\u001b[0m\u001b[0;34m\u001b[0m\u001b[0;34m\u001b[0m\u001b[0m\n",
            "\u001b[0;32m/usr/lib/python3.10/multiprocessing/pool.py\u001b[0m in \u001b[0;36mworker\u001b[0;34m(inqueue, outqueue, initializer, initargs, maxtasks, wrap_exception)\u001b[0m\n\u001b[1;32m    123\u001b[0m         \u001b[0mjob\u001b[0m\u001b[0;34m,\u001b[0m \u001b[0mi\u001b[0m\u001b[0;34m,\u001b[0m \u001b[0mfunc\u001b[0m\u001b[0;34m,\u001b[0m \u001b[0margs\u001b[0m\u001b[0;34m,\u001b[0m \u001b[0mkwds\u001b[0m \u001b[0;34m=\u001b[0m \u001b[0mtask\u001b[0m\u001b[0;34m\u001b[0m\u001b[0;34m\u001b[0m\u001b[0m\n\u001b[1;32m    124\u001b[0m         \u001b[0;32mtry\u001b[0m\u001b[0;34m:\u001b[0m\u001b[0;34m\u001b[0m\u001b[0;34m\u001b[0m\u001b[0m\n\u001b[0;32m--> 125\u001b[0;31m             \u001b[0mresult\u001b[0m \u001b[0;34m=\u001b[0m \u001b[0;34m(\u001b[0m\u001b[0;32mTrue\u001b[0m\u001b[0;34m,\u001b[0m \u001b[0mfunc\u001b[0m\u001b[0;34m(\u001b[0m\u001b[0;34m*\u001b[0m\u001b[0margs\u001b[0m\u001b[0;34m,\u001b[0m \u001b[0;34m**\u001b[0m\u001b[0mkwds\u001b[0m\u001b[0;34m)\u001b[0m\u001b[0;34m)\u001b[0m\u001b[0;34m\u001b[0m\u001b[0;34m\u001b[0m\u001b[0m\n\u001b[0m\u001b[1;32m    126\u001b[0m         \u001b[0;32mexcept\u001b[0m \u001b[0mException\u001b[0m \u001b[0;32mas\u001b[0m \u001b[0me\u001b[0m\u001b[0;34m:\u001b[0m\u001b[0;34m\u001b[0m\u001b[0;34m\u001b[0m\u001b[0m\n\u001b[1;32m    127\u001b[0m             \u001b[0;32mif\u001b[0m \u001b[0mwrap_exception\u001b[0m \u001b[0;32mand\u001b[0m \u001b[0mfunc\u001b[0m \u001b[0;32mis\u001b[0m \u001b[0;32mnot\u001b[0m \u001b[0m_helper_reraises_exception\u001b[0m\u001b[0;34m:\u001b[0m\u001b[0;34m\u001b[0m\u001b[0;34m\u001b[0m\u001b[0m\n",
            "\u001b[0;32m/usr/local/lib/python3.10/dist-packages/pyspark/ml/tuning.py\u001b[0m in \u001b[0;36m<lambda>\u001b[0;34m(f)\u001b[0m\n\u001b[1;32m    845\u001b[0m                 \u001b[0m_parallelFitTasks\u001b[0m\u001b[0;34m(\u001b[0m\u001b[0mest\u001b[0m\u001b[0;34m,\u001b[0m \u001b[0mtrain\u001b[0m\u001b[0;34m,\u001b[0m \u001b[0meva\u001b[0m\u001b[0;34m,\u001b[0m \u001b[0mvalidation\u001b[0m\u001b[0;34m,\u001b[0m \u001b[0mepm\u001b[0m\u001b[0;34m,\u001b[0m \u001b[0mcollectSubModelsParam\u001b[0m\u001b[0;34m)\u001b[0m\u001b[0;34m,\u001b[0m\u001b[0;34m\u001b[0m\u001b[0;34m\u001b[0m\u001b[0m\n\u001b[1;32m    846\u001b[0m             )\n\u001b[0;32m--> 847\u001b[0;31m             \u001b[0;32mfor\u001b[0m \u001b[0mj\u001b[0m\u001b[0;34m,\u001b[0m \u001b[0mmetric\u001b[0m\u001b[0;34m,\u001b[0m \u001b[0msubModel\u001b[0m \u001b[0;32min\u001b[0m \u001b[0mpool\u001b[0m\u001b[0;34m.\u001b[0m\u001b[0mimap_unordered\u001b[0m\u001b[0;34m(\u001b[0m\u001b[0;32mlambda\u001b[0m \u001b[0mf\u001b[0m\u001b[0;34m:\u001b[0m \u001b[0mf\u001b[0m\u001b[0;34m(\u001b[0m\u001b[0;34m)\u001b[0m\u001b[0;34m,\u001b[0m \u001b[0mtasks\u001b[0m\u001b[0;34m)\u001b[0m\u001b[0;34m:\u001b[0m\u001b[0;34m\u001b[0m\u001b[0;34m\u001b[0m\u001b[0m\n\u001b[0m\u001b[1;32m    848\u001b[0m                 \u001b[0mmetrics_all\u001b[0m\u001b[0;34m[\u001b[0m\u001b[0mi\u001b[0m\u001b[0;34m]\u001b[0m\u001b[0;34m[\u001b[0m\u001b[0mj\u001b[0m\u001b[0;34m]\u001b[0m \u001b[0;34m=\u001b[0m \u001b[0mmetric\u001b[0m\u001b[0;34m\u001b[0m\u001b[0;34m\u001b[0m\u001b[0m\n\u001b[1;32m    849\u001b[0m                 \u001b[0;32mif\u001b[0m \u001b[0mcollectSubModelsParam\u001b[0m\u001b[0;34m:\u001b[0m\u001b[0;34m\u001b[0m\u001b[0;34m\u001b[0m\u001b[0m\n",
            "\u001b[0;32m/usr/local/lib/python3.10/dist-packages/pyspark/util.py\u001b[0m in \u001b[0;36mwrapped\u001b[0;34m(*args, **kwargs)\u001b[0m\n\u001b[1;32m    340\u001b[0m             \u001b[0;32massert\u001b[0m \u001b[0mSparkContext\u001b[0m\u001b[0;34m.\u001b[0m\u001b[0m_active_spark_context\u001b[0m \u001b[0;32mis\u001b[0m \u001b[0;32mnot\u001b[0m \u001b[0;32mNone\u001b[0m\u001b[0;34m\u001b[0m\u001b[0;34m\u001b[0m\u001b[0m\n\u001b[1;32m    341\u001b[0m             \u001b[0mSparkContext\u001b[0m\u001b[0;34m.\u001b[0m\u001b[0m_active_spark_context\u001b[0m\u001b[0;34m.\u001b[0m\u001b[0m_jsc\u001b[0m\u001b[0;34m.\u001b[0m\u001b[0msc\u001b[0m\u001b[0;34m(\u001b[0m\u001b[0;34m)\u001b[0m\u001b[0;34m.\u001b[0m\u001b[0msetLocalProperties\u001b[0m\u001b[0;34m(\u001b[0m\u001b[0mproperties\u001b[0m\u001b[0;34m)\u001b[0m\u001b[0;34m\u001b[0m\u001b[0;34m\u001b[0m\u001b[0m\n\u001b[0;32m--> 342\u001b[0;31m             \u001b[0;32mreturn\u001b[0m \u001b[0mf\u001b[0m\u001b[0;34m(\u001b[0m\u001b[0;34m*\u001b[0m\u001b[0margs\u001b[0m\u001b[0;34m,\u001b[0m \u001b[0;34m**\u001b[0m\u001b[0mkwargs\u001b[0m\u001b[0;34m)\u001b[0m\u001b[0;34m\u001b[0m\u001b[0;34m\u001b[0m\u001b[0m\n\u001b[0m\u001b[1;32m    343\u001b[0m \u001b[0;34m\u001b[0m\u001b[0m\n\u001b[1;32m    344\u001b[0m         \u001b[0;32mreturn\u001b[0m \u001b[0mwrapped\u001b[0m\u001b[0;34m\u001b[0m\u001b[0;34m\u001b[0m\u001b[0m\n",
            "\u001b[0;32m/usr/local/lib/python3.10/dist-packages/pyspark/ml/tuning.py\u001b[0m in \u001b[0;36msingleTask\u001b[0;34m()\u001b[0m\n\u001b[1;32m    111\u001b[0m \u001b[0;34m\u001b[0m\u001b[0m\n\u001b[1;32m    112\u001b[0m     \u001b[0;32mdef\u001b[0m \u001b[0msingleTask\u001b[0m\u001b[0;34m(\u001b[0m\u001b[0;34m)\u001b[0m \u001b[0;34m->\u001b[0m \u001b[0mTuple\u001b[0m\u001b[0;34m[\u001b[0m\u001b[0mint\u001b[0m\u001b[0;34m,\u001b[0m \u001b[0mfloat\u001b[0m\u001b[0;34m,\u001b[0m \u001b[0mTransformer\u001b[0m\u001b[0;34m]\u001b[0m\u001b[0;34m:\u001b[0m\u001b[0;34m\u001b[0m\u001b[0;34m\u001b[0m\u001b[0m\n\u001b[0;32m--> 113\u001b[0;31m         \u001b[0mindex\u001b[0m\u001b[0;34m,\u001b[0m \u001b[0mmodel\u001b[0m \u001b[0;34m=\u001b[0m \u001b[0mnext\u001b[0m\u001b[0;34m(\u001b[0m\u001b[0mmodelIter\u001b[0m\u001b[0;34m)\u001b[0m\u001b[0;34m\u001b[0m\u001b[0;34m\u001b[0m\u001b[0m\n\u001b[0m\u001b[1;32m    114\u001b[0m         \u001b[0;31m# TODO: duplicate evaluator to take extra params from input\u001b[0m\u001b[0;34m\u001b[0m\u001b[0;34m\u001b[0m\u001b[0m\n\u001b[1;32m    115\u001b[0m         \u001b[0;31m#  Note: Supporting tuning params in evaluator need update method\u001b[0m\u001b[0;34m\u001b[0m\u001b[0;34m\u001b[0m\u001b[0m\n",
            "\u001b[0;32m/usr/local/lib/python3.10/dist-packages/pyspark/ml/base.py\u001b[0m in \u001b[0;36m__next__\u001b[0;34m(self)\u001b[0m\n\u001b[1;32m     96\u001b[0m                 \u001b[0;32mraise\u001b[0m \u001b[0mStopIteration\u001b[0m\u001b[0;34m(\u001b[0m\u001b[0;34m\"No models remaining.\"\u001b[0m\u001b[0;34m)\u001b[0m\u001b[0;34m\u001b[0m\u001b[0;34m\u001b[0m\u001b[0m\n\u001b[1;32m     97\u001b[0m             \u001b[0mself\u001b[0m\u001b[0;34m.\u001b[0m\u001b[0mcounter\u001b[0m \u001b[0;34m+=\u001b[0m \u001b[0;36m1\u001b[0m\u001b[0;34m\u001b[0m\u001b[0;34m\u001b[0m\u001b[0m\n\u001b[0;32m---> 98\u001b[0;31m         \u001b[0;32mreturn\u001b[0m \u001b[0mindex\u001b[0m\u001b[0;34m,\u001b[0m \u001b[0mself\u001b[0m\u001b[0;34m.\u001b[0m\u001b[0mfitSingleModel\u001b[0m\u001b[0;34m(\u001b[0m\u001b[0mindex\u001b[0m\u001b[0;34m)\u001b[0m\u001b[0;34m\u001b[0m\u001b[0;34m\u001b[0m\u001b[0m\n\u001b[0m\u001b[1;32m     99\u001b[0m \u001b[0;34m\u001b[0m\u001b[0m\n\u001b[1;32m    100\u001b[0m     \u001b[0;32mdef\u001b[0m \u001b[0mnext\u001b[0m\u001b[0;34m(\u001b[0m\u001b[0mself\u001b[0m\u001b[0;34m)\u001b[0m \u001b[0;34m->\u001b[0m \u001b[0mTuple\u001b[0m\u001b[0;34m[\u001b[0m\u001b[0mint\u001b[0m\u001b[0;34m,\u001b[0m \u001b[0mM\u001b[0m\u001b[0;34m]\u001b[0m\u001b[0;34m:\u001b[0m\u001b[0;34m\u001b[0m\u001b[0;34m\u001b[0m\u001b[0m\n",
            "\u001b[0;32m/usr/local/lib/python3.10/dist-packages/pyspark/ml/base.py\u001b[0m in \u001b[0;36mfitSingleModel\u001b[0;34m(index)\u001b[0m\n\u001b[1;32m    154\u001b[0m \u001b[0;34m\u001b[0m\u001b[0m\n\u001b[1;32m    155\u001b[0m         \u001b[0;32mdef\u001b[0m \u001b[0mfitSingleModel\u001b[0m\u001b[0;34m(\u001b[0m\u001b[0mindex\u001b[0m\u001b[0;34m:\u001b[0m \u001b[0mint\u001b[0m\u001b[0;34m)\u001b[0m \u001b[0;34m->\u001b[0m \u001b[0mM\u001b[0m\u001b[0;34m:\u001b[0m\u001b[0;34m\u001b[0m\u001b[0;34m\u001b[0m\u001b[0m\n\u001b[0;32m--> 156\u001b[0;31m             \u001b[0;32mreturn\u001b[0m \u001b[0mestimator\u001b[0m\u001b[0;34m.\u001b[0m\u001b[0mfit\u001b[0m\u001b[0;34m(\u001b[0m\u001b[0mdataset\u001b[0m\u001b[0;34m,\u001b[0m \u001b[0mparamMaps\u001b[0m\u001b[0;34m[\u001b[0m\u001b[0mindex\u001b[0m\u001b[0;34m]\u001b[0m\u001b[0;34m)\u001b[0m\u001b[0;34m\u001b[0m\u001b[0;34m\u001b[0m\u001b[0m\n\u001b[0m\u001b[1;32m    157\u001b[0m \u001b[0;34m\u001b[0m\u001b[0m\n\u001b[1;32m    158\u001b[0m         \u001b[0;32mreturn\u001b[0m \u001b[0m_FitMultipleIterator\u001b[0m\u001b[0;34m(\u001b[0m\u001b[0mfitSingleModel\u001b[0m\u001b[0;34m,\u001b[0m \u001b[0mlen\u001b[0m\u001b[0;34m(\u001b[0m\u001b[0mparamMaps\u001b[0m\u001b[0;34m)\u001b[0m\u001b[0;34m)\u001b[0m\u001b[0;34m\u001b[0m\u001b[0;34m\u001b[0m\u001b[0m\n",
            "\u001b[0;32m/usr/local/lib/python3.10/dist-packages/pyspark/ml/base.py\u001b[0m in \u001b[0;36mfit\u001b[0;34m(self, dataset, params)\u001b[0m\n\u001b[1;32m    201\u001b[0m         \u001b[0;32melif\u001b[0m \u001b[0misinstance\u001b[0m\u001b[0;34m(\u001b[0m\u001b[0mparams\u001b[0m\u001b[0;34m,\u001b[0m \u001b[0mdict\u001b[0m\u001b[0;34m)\u001b[0m\u001b[0;34m:\u001b[0m\u001b[0;34m\u001b[0m\u001b[0;34m\u001b[0m\u001b[0m\n\u001b[1;32m    202\u001b[0m             \u001b[0;32mif\u001b[0m \u001b[0mparams\u001b[0m\u001b[0;34m:\u001b[0m\u001b[0;34m\u001b[0m\u001b[0;34m\u001b[0m\u001b[0m\n\u001b[0;32m--> 203\u001b[0;31m                 \u001b[0;32mreturn\u001b[0m \u001b[0mself\u001b[0m\u001b[0;34m.\u001b[0m\u001b[0mcopy\u001b[0m\u001b[0;34m(\u001b[0m\u001b[0mparams\u001b[0m\u001b[0;34m)\u001b[0m\u001b[0;34m.\u001b[0m\u001b[0m_fit\u001b[0m\u001b[0;34m(\u001b[0m\u001b[0mdataset\u001b[0m\u001b[0;34m)\u001b[0m\u001b[0;34m\u001b[0m\u001b[0;34m\u001b[0m\u001b[0m\n\u001b[0m\u001b[1;32m    204\u001b[0m             \u001b[0;32melse\u001b[0m\u001b[0;34m:\u001b[0m\u001b[0;34m\u001b[0m\u001b[0;34m\u001b[0m\u001b[0m\n\u001b[1;32m    205\u001b[0m                 \u001b[0;32mreturn\u001b[0m \u001b[0mself\u001b[0m\u001b[0;34m.\u001b[0m\u001b[0m_fit\u001b[0m\u001b[0;34m(\u001b[0m\u001b[0mdataset\u001b[0m\u001b[0;34m)\u001b[0m\u001b[0;34m\u001b[0m\u001b[0;34m\u001b[0m\u001b[0m\n",
            "\u001b[0;32m/usr/local/lib/python3.10/dist-packages/pyspark/ml/wrapper.py\u001b[0m in \u001b[0;36m_fit\u001b[0;34m(self, dataset)\u001b[0m\n\u001b[1;32m    379\u001b[0m \u001b[0;34m\u001b[0m\u001b[0m\n\u001b[1;32m    380\u001b[0m     \u001b[0;32mdef\u001b[0m \u001b[0m_fit\u001b[0m\u001b[0;34m(\u001b[0m\u001b[0mself\u001b[0m\u001b[0;34m,\u001b[0m \u001b[0mdataset\u001b[0m\u001b[0;34m:\u001b[0m \u001b[0mDataFrame\u001b[0m\u001b[0;34m)\u001b[0m \u001b[0;34m->\u001b[0m \u001b[0mJM\u001b[0m\u001b[0;34m:\u001b[0m\u001b[0;34m\u001b[0m\u001b[0;34m\u001b[0m\u001b[0m\n\u001b[0;32m--> 381\u001b[0;31m         \u001b[0mjava_model\u001b[0m \u001b[0;34m=\u001b[0m \u001b[0mself\u001b[0m\u001b[0;34m.\u001b[0m\u001b[0m_fit_java\u001b[0m\u001b[0;34m(\u001b[0m\u001b[0mdataset\u001b[0m\u001b[0;34m)\u001b[0m\u001b[0;34m\u001b[0m\u001b[0;34m\u001b[0m\u001b[0m\n\u001b[0m\u001b[1;32m    382\u001b[0m         \u001b[0mmodel\u001b[0m \u001b[0;34m=\u001b[0m \u001b[0mself\u001b[0m\u001b[0;34m.\u001b[0m\u001b[0m_create_model\u001b[0m\u001b[0;34m(\u001b[0m\u001b[0mjava_model\u001b[0m\u001b[0;34m)\u001b[0m\u001b[0;34m\u001b[0m\u001b[0;34m\u001b[0m\u001b[0m\n\u001b[1;32m    383\u001b[0m         \u001b[0;32mreturn\u001b[0m \u001b[0mself\u001b[0m\u001b[0;34m.\u001b[0m\u001b[0m_copyValues\u001b[0m\u001b[0;34m(\u001b[0m\u001b[0mmodel\u001b[0m\u001b[0;34m)\u001b[0m\u001b[0;34m\u001b[0m\u001b[0;34m\u001b[0m\u001b[0m\n",
            "\u001b[0;32m/usr/local/lib/python3.10/dist-packages/pyspark/ml/wrapper.py\u001b[0m in \u001b[0;36m_fit_java\u001b[0;34m(self, dataset)\u001b[0m\n\u001b[1;32m    376\u001b[0m \u001b[0;34m\u001b[0m\u001b[0m\n\u001b[1;32m    377\u001b[0m         \u001b[0mself\u001b[0m\u001b[0;34m.\u001b[0m\u001b[0m_transfer_params_to_java\u001b[0m\u001b[0;34m(\u001b[0m\u001b[0;34m)\u001b[0m\u001b[0;34m\u001b[0m\u001b[0;34m\u001b[0m\u001b[0m\n\u001b[0;32m--> 378\u001b[0;31m         \u001b[0;32mreturn\u001b[0m \u001b[0mself\u001b[0m\u001b[0;34m.\u001b[0m\u001b[0m_java_obj\u001b[0m\u001b[0;34m.\u001b[0m\u001b[0mfit\u001b[0m\u001b[0;34m(\u001b[0m\u001b[0mdataset\u001b[0m\u001b[0;34m.\u001b[0m\u001b[0m_jdf\u001b[0m\u001b[0;34m)\u001b[0m\u001b[0;34m\u001b[0m\u001b[0;34m\u001b[0m\u001b[0m\n\u001b[0m\u001b[1;32m    379\u001b[0m \u001b[0;34m\u001b[0m\u001b[0m\n\u001b[1;32m    380\u001b[0m     \u001b[0;32mdef\u001b[0m \u001b[0m_fit\u001b[0m\u001b[0;34m(\u001b[0m\u001b[0mself\u001b[0m\u001b[0;34m,\u001b[0m \u001b[0mdataset\u001b[0m\u001b[0;34m:\u001b[0m \u001b[0mDataFrame\u001b[0m\u001b[0;34m)\u001b[0m \u001b[0;34m->\u001b[0m \u001b[0mJM\u001b[0m\u001b[0;34m:\u001b[0m\u001b[0;34m\u001b[0m\u001b[0;34m\u001b[0m\u001b[0m\n",
            "\u001b[0;32m/usr/local/lib/python3.10/dist-packages/py4j/java_gateway.py\u001b[0m in \u001b[0;36m__call__\u001b[0;34m(self, *args)\u001b[0m\n\u001b[1;32m   1320\u001b[0m \u001b[0;34m\u001b[0m\u001b[0m\n\u001b[1;32m   1321\u001b[0m         \u001b[0manswer\u001b[0m \u001b[0;34m=\u001b[0m \u001b[0mself\u001b[0m\u001b[0;34m.\u001b[0m\u001b[0mgateway_client\u001b[0m\u001b[0;34m.\u001b[0m\u001b[0msend_command\u001b[0m\u001b[0;34m(\u001b[0m\u001b[0mcommand\u001b[0m\u001b[0;34m)\u001b[0m\u001b[0;34m\u001b[0m\u001b[0;34m\u001b[0m\u001b[0m\n\u001b[0;32m-> 1322\u001b[0;31m         return_value = get_return_value(\n\u001b[0m\u001b[1;32m   1323\u001b[0m             answer, self.gateway_client, self.target_id, self.name)\n\u001b[1;32m   1324\u001b[0m \u001b[0;34m\u001b[0m\u001b[0m\n",
            "\u001b[0;32m/usr/local/lib/python3.10/dist-packages/pyspark/errors/exceptions/captured.py\u001b[0m in \u001b[0;36mdeco\u001b[0;34m(*a, **kw)\u001b[0m\n\u001b[1;32m    177\u001b[0m     \u001b[0;32mdef\u001b[0m \u001b[0mdeco\u001b[0m\u001b[0;34m(\u001b[0m\u001b[0;34m*\u001b[0m\u001b[0ma\u001b[0m\u001b[0;34m:\u001b[0m \u001b[0mAny\u001b[0m\u001b[0;34m,\u001b[0m \u001b[0;34m**\u001b[0m\u001b[0mkw\u001b[0m\u001b[0;34m:\u001b[0m \u001b[0mAny\u001b[0m\u001b[0;34m)\u001b[0m \u001b[0;34m->\u001b[0m \u001b[0mAny\u001b[0m\u001b[0;34m:\u001b[0m\u001b[0;34m\u001b[0m\u001b[0;34m\u001b[0m\u001b[0m\n\u001b[1;32m    178\u001b[0m         \u001b[0;32mtry\u001b[0m\u001b[0;34m:\u001b[0m\u001b[0;34m\u001b[0m\u001b[0;34m\u001b[0m\u001b[0m\n\u001b[0;32m--> 179\u001b[0;31m             \u001b[0;32mreturn\u001b[0m \u001b[0mf\u001b[0m\u001b[0;34m(\u001b[0m\u001b[0;34m*\u001b[0m\u001b[0ma\u001b[0m\u001b[0;34m,\u001b[0m \u001b[0;34m**\u001b[0m\u001b[0mkw\u001b[0m\u001b[0;34m)\u001b[0m\u001b[0;34m\u001b[0m\u001b[0;34m\u001b[0m\u001b[0m\n\u001b[0m\u001b[1;32m    180\u001b[0m         \u001b[0;32mexcept\u001b[0m \u001b[0mPy4JJavaError\u001b[0m \u001b[0;32mas\u001b[0m \u001b[0me\u001b[0m\u001b[0;34m:\u001b[0m\u001b[0;34m\u001b[0m\u001b[0;34m\u001b[0m\u001b[0m\n\u001b[1;32m    181\u001b[0m             \u001b[0mconverted\u001b[0m \u001b[0;34m=\u001b[0m \u001b[0mconvert_exception\u001b[0m\u001b[0;34m(\u001b[0m\u001b[0me\u001b[0m\u001b[0;34m.\u001b[0m\u001b[0mjava_exception\u001b[0m\u001b[0;34m)\u001b[0m\u001b[0;34m\u001b[0m\u001b[0;34m\u001b[0m\u001b[0m\n",
            "\u001b[0;32m/usr/local/lib/python3.10/dist-packages/py4j/protocol.py\u001b[0m in \u001b[0;36mget_return_value\u001b[0;34m(answer, gateway_client, target_id, name)\u001b[0m\n\u001b[1;32m    324\u001b[0m             \u001b[0mvalue\u001b[0m \u001b[0;34m=\u001b[0m \u001b[0mOUTPUT_CONVERTER\u001b[0m\u001b[0;34m[\u001b[0m\u001b[0mtype\u001b[0m\u001b[0;34m]\u001b[0m\u001b[0;34m(\u001b[0m\u001b[0manswer\u001b[0m\u001b[0;34m[\u001b[0m\u001b[0;36m2\u001b[0m\u001b[0;34m:\u001b[0m\u001b[0;34m]\u001b[0m\u001b[0;34m,\u001b[0m \u001b[0mgateway_client\u001b[0m\u001b[0;34m)\u001b[0m\u001b[0;34m\u001b[0m\u001b[0;34m\u001b[0m\u001b[0m\n\u001b[1;32m    325\u001b[0m             \u001b[0;32mif\u001b[0m \u001b[0manswer\u001b[0m\u001b[0;34m[\u001b[0m\u001b[0;36m1\u001b[0m\u001b[0;34m]\u001b[0m \u001b[0;34m==\u001b[0m \u001b[0mREFERENCE_TYPE\u001b[0m\u001b[0;34m:\u001b[0m\u001b[0;34m\u001b[0m\u001b[0;34m\u001b[0m\u001b[0m\n\u001b[0;32m--> 326\u001b[0;31m                 raise Py4JJavaError(\n\u001b[0m\u001b[1;32m    327\u001b[0m                     \u001b[0;34m\"An error occurred while calling {0}{1}{2}.\\n\"\u001b[0m\u001b[0;34m.\u001b[0m\u001b[0;34m\u001b[0m\u001b[0;34m\u001b[0m\u001b[0m\n\u001b[1;32m    328\u001b[0m                     format(target_id, \".\", name), value)\n",
            "\u001b[0;31mPy4JJavaError\u001b[0m: An error occurred while calling o6552.fit.\n: org.apache.spark.SparkException: Job aborted due to stage failure: Task 1 in stage 3102.0 failed 1 times, most recent failure: Lost task 1.0 in stage 3102.0 (TID 22834) (5b91d0f6f1aa executor driver): java.lang.RuntimeException: Vector values MUST be in {0, 1}, but got [0.0,0.8692516013428768,1.3553875846108099,3.3812086352456543,0.0]\n\tat org.apache.spark.sql.catalyst.expressions.GeneratedClass$GeneratedIteratorForCodegenStage1.project_doConsume_0$(Unknown Source)\n\tat org.apache.spark.sql.catalyst.expressions.GeneratedClass$GeneratedIteratorForCodegenStage1.processNext(Unknown Source)\n\tat org.apache.spark.sql.execution.BufferedRowIterator.hasNext(BufferedRowIterator.java:43)\n\tat org.apache.spark.sql.execution.WholeStageCodegenEvaluatorFactory$WholeStageCodegenPartitionEvaluator$$anon$1.hasNext(WholeStageCodegenEvaluatorFactory.scala:43)\n\tat org.apache.spark.sql.execution.aggregate.ObjectHashAggregateExec.$anonfun$doExecute$1(ObjectHashAggregateExec.scala:92)\n\tat org.apache.spark.sql.execution.aggregate.ObjectHashAggregateExec.$anonfun$doExecute$1$adapted(ObjectHashAggregateExec.scala:90)\n\tat org.apache.spark.rdd.RDD.$anonfun$mapPartitionsWithIndexInternal$2(RDD.scala:880)\n\tat org.apache.spark.rdd.RDD.$anonfun$mapPartitionsWithIndexInternal$2$adapted(RDD.scala:880)\n\tat org.apache.spark.rdd.MapPartitionsRDD.compute(MapPartitionsRDD.scala:52)\n\tat org.apache.spark.rdd.RDD.computeOrReadCheckpoint(RDD.scala:367)\n\tat org.apache.spark.rdd.RDD.iterator(RDD.scala:331)\n\tat org.apache.spark.rdd.MapPartitionsRDD.compute(MapPartitionsRDD.scala:52)\n\tat org.apache.spark.rdd.RDD.computeOrReadCheckpoint(RDD.scala:367)\n\tat org.apache.spark.rdd.RDD.iterator(RDD.scala:331)\n\tat org.apache.spark.shuffle.ShuffleWriteProcessor.write(ShuffleWriteProcessor.scala:59)\n\tat org.apache.spark.scheduler.ShuffleMapTask.runTask(ShuffleMapTask.scala:104)\n\tat org.apache.spark.scheduler.ShuffleMapTask.runTask(ShuffleMapTask.scala:54)\n\tat org.apache.spark.TaskContext.runTaskWithListeners(TaskContext.scala:166)\n\tat org.apache.spark.scheduler.Task.run(Task.scala:141)\n\tat org.apache.spark.executor.Executor$TaskRunner.$anonfun$run$4(Executor.scala:620)\n\tat org.apache.spark.util.SparkErrorUtils.tryWithSafeFinally(SparkErrorUtils.scala:64)\n\tat org.apache.spark.util.SparkErrorUtils.tryWithSafeFinally$(SparkErrorUtils.scala:61)\n\tat org.apache.spark.util.Utils$.tryWithSafeFinally(Utils.scala:94)\n\tat org.apache.spark.executor.Executor$TaskRunner.run(Executor.scala:623)\n\tat java.base/java.util.concurrent.ThreadPoolExecutor.runWorker(ThreadPoolExecutor.java:1128)\n\tat java.base/java.util.concurrent.ThreadPoolExecutor$Worker.run(ThreadPoolExecutor.java:628)\n\tat java.base/java.lang.Thread.run(Thread.java:829)\n\nDriver stacktrace:\n\tat org.apache.spark.scheduler.DAGScheduler.failJobAndIndependentStages(DAGScheduler.scala:2856)\n\tat org.apache.spark.scheduler.DAGScheduler.$anonfun$abortStage$2(DAGScheduler.scala:2792)\n\tat org.apache.spark.scheduler.DAGScheduler.$anonfun$abortStage$2$adapted(DAGScheduler.scala:2791)\n\tat scala.collection.mutable.ResizableArray.foreach(ResizableArray.scala:62)\n\tat scala.collection.mutable.ResizableArray.foreach$(ResizableArray.scala:55)\n\tat scala.collection.mutable.ArrayBuffer.foreach(ArrayBuffer.scala:49)\n\tat org.apache.spark.scheduler.DAGScheduler.abortStage(DAGScheduler.scala:2791)\n\tat org.apache.spark.scheduler.DAGScheduler.$anonfun$handleTaskSetFailed$1(DAGScheduler.scala:1247)\n\tat org.apache.spark.scheduler.DAGScheduler.$anonfun$handleTaskSetFailed$1$adapted(DAGScheduler.scala:1247)\n\tat scala.Option.foreach(Option.scala:407)\n\tat org.apache.spark.scheduler.DAGScheduler.handleTaskSetFailed(DAGScheduler.scala:1247)\n\tat org.apache.spark.scheduler.DAGSchedulerEventProcessLoop.doOnReceive(DAGScheduler.scala:3060)\n\tat org.apache.spark.scheduler.DAGSchedulerEventProcessLoop.onReceive(DAGScheduler.scala:2994)\n\tat org.apache.spark.scheduler.DAGSchedulerEventProcessLoop.onReceive(DAGScheduler.scala:2983)\n\tat org.apache.spark.util.EventLoop$$anon$1.run(EventLoop.scala:49)\nCaused by: java.lang.RuntimeException: Vector values MUST be in {0, 1}, but got [0.0,0.8692516013428768,1.3553875846108099,3.3812086352456543,0.0]\n\tat org.apache.spark.sql.catalyst.expressions.GeneratedClass$GeneratedIteratorForCodegenStage1.project_doConsume_0$(Unknown Source)\n\tat org.apache.spark.sql.catalyst.expressions.GeneratedClass$GeneratedIteratorForCodegenStage1.processNext(Unknown Source)\n\tat org.apache.spark.sql.execution.BufferedRowIterator.hasNext(BufferedRowIterator.java:43)\n\tat org.apache.spark.sql.execution.WholeStageCodegenEvaluatorFactory$WholeStageCodegenPartitionEvaluator$$anon$1.hasNext(WholeStageCodegenEvaluatorFactory.scala:43)\n\tat org.apache.spark.sql.execution.aggregate.ObjectHashAggregateExec.$anonfun$doExecute$1(ObjectHashAggregateExec.scala:92)\n\tat org.apache.spark.sql.execution.aggregate.ObjectHashAggregateExec.$anonfun$doExecute$1$adapted(ObjectHashAggregateExec.scala:90)\n\tat org.apache.spark.rdd.RDD.$anonfun$mapPartitionsWithIndexInternal$2(RDD.scala:880)\n\tat org.apache.spark.rdd.RDD.$anonfun$mapPartitionsWithIndexInternal$2$adapted(RDD.scala:880)\n\tat org.apache.spark.rdd.MapPartitionsRDD.compute(MapPartitionsRDD.scala:52)\n\tat org.apache.spark.rdd.RDD.computeOrReadCheckpoint(RDD.scala:367)\n\tat org.apache.spark.rdd.RDD.iterator(RDD.scala:331)\n\tat org.apache.spark.rdd.MapPartitionsRDD.compute(MapPartitionsRDD.scala:52)\n\tat org.apache.spark.rdd.RDD.computeOrReadCheckpoint(RDD.scala:367)\n\tat org.apache.spark.rdd.RDD.iterator(RDD.scala:331)\n\tat org.apache.spark.shuffle.ShuffleWriteProcessor.write(ShuffleWriteProcessor.scala:59)\n\tat org.apache.spark.scheduler.ShuffleMapTask.runTask(ShuffleMapTask.scala:104)\n\tat org.apache.spark.scheduler.ShuffleMapTask.runTask(ShuffleMapTask.scala:54)\n\tat org.apache.spark.TaskContext.runTaskWithListeners(TaskContext.scala:166)\n\tat org.apache.spark.scheduler.Task.run(Task.scala:141)\n\tat org.apache.spark.executor.Executor$TaskRunner.$anonfun$run$4(Executor.scala:620)\n\tat org.apache.spark.util.SparkErrorUtils.tryWithSafeFinally(SparkErrorUtils.scala:64)\n\tat org.apache.spark.util.SparkErrorUtils.tryWithSafeFinally$(SparkErrorUtils.scala:61)\n\tat org.apache.spark.util.Utils$.tryWithSafeFinally(Utils.scala:94)\n\tat org.apache.spark.executor.Executor$TaskRunner.run(Executor.scala:623)\n\tat java.base/java.util.concurrent.ThreadPoolExecutor.runWorker(ThreadPoolExecutor.java:1128)\n\tat java.base/java.util.concurrent.ThreadPoolExecutor$Worker.run(ThreadPoolExecutor.java:628)\n\tat java.base/java.lang.Thread.run(Thread.java:829)\n"
          ]
        }
      ]
    },
    {
      "cell_type": "code",
      "source": [
        "# Fit the model\n",
        "cvModel = crossval.fit(train)"
      ],
      "metadata": {
        "colab": {
          "base_uri": "https://localhost:8080/",
          "height": 304
        },
        "id": "JjJPNPj9j43Z",
        "outputId": "539ee68f-49db-4dab-ede1-fa01e091df95"
      },
      "execution_count": 129,
      "outputs": [
        {
          "output_type": "error",
          "ename": "AttributeError",
          "evalue": "module 'numpy' has no attribute 'fitMultiple'",
          "traceback": [
            "\u001b[0;31m---------------------------------------------------------------------------\u001b[0m",
            "\u001b[0;31mAttributeError\u001b[0m                            Traceback (most recent call last)",
            "\u001b[0;32m<ipython-input-129-71f2ccccfef8>\u001b[0m in \u001b[0;36m<cell line: 2>\u001b[0;34m()\u001b[0m\n\u001b[1;32m      1\u001b[0m \u001b[0;31m# Fit the model\u001b[0m\u001b[0;34m\u001b[0m\u001b[0;34m\u001b[0m\u001b[0m\n\u001b[0;32m----> 2\u001b[0;31m \u001b[0mcvModel\u001b[0m \u001b[0;34m=\u001b[0m \u001b[0mcrossval\u001b[0m\u001b[0;34m.\u001b[0m\u001b[0mfit\u001b[0m\u001b[0;34m(\u001b[0m\u001b[0mtrain\u001b[0m\u001b[0;34m)\u001b[0m\u001b[0;34m\u001b[0m\u001b[0;34m\u001b[0m\u001b[0m\n\u001b[0m",
            "\u001b[0;32m/usr/local/lib/python3.10/dist-packages/pyspark/ml/base.py\u001b[0m in \u001b[0;36mfit\u001b[0;34m(self, dataset, params)\u001b[0m\n\u001b[1;32m    203\u001b[0m                 \u001b[0;32mreturn\u001b[0m \u001b[0mself\u001b[0m\u001b[0;34m.\u001b[0m\u001b[0mcopy\u001b[0m\u001b[0;34m(\u001b[0m\u001b[0mparams\u001b[0m\u001b[0;34m)\u001b[0m\u001b[0;34m.\u001b[0m\u001b[0m_fit\u001b[0m\u001b[0;34m(\u001b[0m\u001b[0mdataset\u001b[0m\u001b[0;34m)\u001b[0m\u001b[0;34m\u001b[0m\u001b[0;34m\u001b[0m\u001b[0m\n\u001b[1;32m    204\u001b[0m             \u001b[0;32melse\u001b[0m\u001b[0;34m:\u001b[0m\u001b[0;34m\u001b[0m\u001b[0;34m\u001b[0m\u001b[0m\n\u001b[0;32m--> 205\u001b[0;31m                 \u001b[0;32mreturn\u001b[0m \u001b[0mself\u001b[0m\u001b[0;34m.\u001b[0m\u001b[0m_fit\u001b[0m\u001b[0;34m(\u001b[0m\u001b[0mdataset\u001b[0m\u001b[0;34m)\u001b[0m\u001b[0;34m\u001b[0m\u001b[0;34m\u001b[0m\u001b[0m\n\u001b[0m\u001b[1;32m    206\u001b[0m         \u001b[0;32melse\u001b[0m\u001b[0;34m:\u001b[0m\u001b[0;34m\u001b[0m\u001b[0;34m\u001b[0m\u001b[0m\n\u001b[1;32m    207\u001b[0m             raise TypeError(\n",
            "\u001b[0;32m/usr/local/lib/python3.10/dist-packages/pyspark/ml/tuning.py\u001b[0m in \u001b[0;36m_fit\u001b[0;34m(self, dataset)\u001b[0m\n\u001b[1;32m    843\u001b[0m             tasks = map(\n\u001b[1;32m    844\u001b[0m                 \u001b[0minheritable_thread_target\u001b[0m\u001b[0;34m,\u001b[0m\u001b[0;34m\u001b[0m\u001b[0;34m\u001b[0m\u001b[0m\n\u001b[0;32m--> 845\u001b[0;31m                 \u001b[0m_parallelFitTasks\u001b[0m\u001b[0;34m(\u001b[0m\u001b[0mest\u001b[0m\u001b[0;34m,\u001b[0m \u001b[0mtrain\u001b[0m\u001b[0;34m,\u001b[0m \u001b[0meva\u001b[0m\u001b[0;34m,\u001b[0m \u001b[0mvalidation\u001b[0m\u001b[0;34m,\u001b[0m \u001b[0mepm\u001b[0m\u001b[0;34m,\u001b[0m \u001b[0mcollectSubModelsParam\u001b[0m\u001b[0;34m)\u001b[0m\u001b[0;34m,\u001b[0m\u001b[0;34m\u001b[0m\u001b[0;34m\u001b[0m\u001b[0m\n\u001b[0m\u001b[1;32m    846\u001b[0m             )\n\u001b[1;32m    847\u001b[0m             \u001b[0;32mfor\u001b[0m \u001b[0mj\u001b[0m\u001b[0;34m,\u001b[0m \u001b[0mmetric\u001b[0m\u001b[0;34m,\u001b[0m \u001b[0msubModel\u001b[0m \u001b[0;32min\u001b[0m \u001b[0mpool\u001b[0m\u001b[0;34m.\u001b[0m\u001b[0mimap_unordered\u001b[0m\u001b[0;34m(\u001b[0m\u001b[0;32mlambda\u001b[0m \u001b[0mf\u001b[0m\u001b[0;34m:\u001b[0m \u001b[0mf\u001b[0m\u001b[0;34m(\u001b[0m\u001b[0;34m)\u001b[0m\u001b[0;34m,\u001b[0m \u001b[0mtasks\u001b[0m\u001b[0;34m)\u001b[0m\u001b[0;34m:\u001b[0m\u001b[0;34m\u001b[0m\u001b[0;34m\u001b[0m\u001b[0m\n",
            "\u001b[0;32m/usr/local/lib/python3.10/dist-packages/pyspark/ml/tuning.py\u001b[0m in \u001b[0;36m_parallelFitTasks\u001b[0;34m(est, train, eva, validation, epm, collectSubModel)\u001b[0m\n\u001b[1;32m    108\u001b[0m         \u001b[0;34m(\u001b[0m\u001b[0mint\u001b[0m\u001b[0;34m,\u001b[0m \u001b[0mfloat\u001b[0m\u001b[0;34m,\u001b[0m \u001b[0msubModel\u001b[0m\u001b[0;34m)\u001b[0m\u001b[0;34m,\u001b[0m \u001b[0man\u001b[0m \u001b[0mindex\u001b[0m \u001b[0minto\u001b[0m\u001b[0;31m \u001b[0m\u001b[0;31m`\u001b[0m\u001b[0mepm\u001b[0m\u001b[0;31m`\u001b[0m \u001b[0;32mand\u001b[0m \u001b[0mthe\u001b[0m \u001b[0massociated\u001b[0m \u001b[0mmetric\u001b[0m \u001b[0mvalue\u001b[0m\u001b[0;34m.\u001b[0m\u001b[0;34m\u001b[0m\u001b[0;34m\u001b[0m\u001b[0m\n\u001b[1;32m    109\u001b[0m     \"\"\"\n\u001b[0;32m--> 110\u001b[0;31m     \u001b[0mmodelIter\u001b[0m \u001b[0;34m=\u001b[0m \u001b[0mest\u001b[0m\u001b[0;34m.\u001b[0m\u001b[0mfitMultiple\u001b[0m\u001b[0;34m(\u001b[0m\u001b[0mtrain\u001b[0m\u001b[0;34m,\u001b[0m \u001b[0mepm\u001b[0m\u001b[0;34m)\u001b[0m\u001b[0;34m\u001b[0m\u001b[0;34m\u001b[0m\u001b[0m\n\u001b[0m\u001b[1;32m    111\u001b[0m \u001b[0;34m\u001b[0m\u001b[0m\n\u001b[1;32m    112\u001b[0m     \u001b[0;32mdef\u001b[0m \u001b[0msingleTask\u001b[0m\u001b[0;34m(\u001b[0m\u001b[0;34m)\u001b[0m \u001b[0;34m->\u001b[0m \u001b[0mTuple\u001b[0m\u001b[0;34m[\u001b[0m\u001b[0mint\u001b[0m\u001b[0;34m,\u001b[0m \u001b[0mfloat\u001b[0m\u001b[0;34m,\u001b[0m \u001b[0mTransformer\u001b[0m\u001b[0;34m]\u001b[0m\u001b[0;34m:\u001b[0m\u001b[0;34m\u001b[0m\u001b[0;34m\u001b[0m\u001b[0m\n",
            "\u001b[0;32m/usr/local/lib/python3.10/dist-packages/numpy/__init__.py\u001b[0m in \u001b[0;36m__getattr__\u001b[0;34m(attr)\u001b[0m\n\u001b[1;32m    331\u001b[0m             \u001b[0;32mraise\u001b[0m \u001b[0mRuntimeError\u001b[0m\u001b[0;34m(\u001b[0m\u001b[0;34m\"Tester was removed in NumPy 1.25.\"\u001b[0m\u001b[0;34m)\u001b[0m\u001b[0;34m\u001b[0m\u001b[0;34m\u001b[0m\u001b[0m\n\u001b[1;32m    332\u001b[0m \u001b[0;34m\u001b[0m\u001b[0m\n\u001b[0;32m--> 333\u001b[0;31m         raise AttributeError(\"module {!r} has no attribute \"\n\u001b[0m\u001b[1;32m    334\u001b[0m                              \"{!r}\".format(__name__, attr))\n\u001b[1;32m    335\u001b[0m \u001b[0;34m\u001b[0m\u001b[0m\n",
            "\u001b[0;31mAttributeError\u001b[0m: module 'numpy' has no attribute 'fitMultiple'"
          ]
        }
      ]
    },
    {
      "cell_type": "code",
      "source": [
        "cvModel.avgMetrics"
      ],
      "metadata": {
        "id": "DvCSbCfDnYRY"
      },
      "execution_count": null,
      "outputs": []
    },
    {
      "cell_type": "code",
      "source": [
        "\n",
        "# Make predictions on the test data\n",
        "predictions = cvModel.transform(testData)\n",
        "\n",
        "# Evaluate the model\n",
        "f1_score = evaluator.evaluate(predictions)\n",
        "print(f\"F1 Score: {f1_score}\")"
      ],
      "metadata": {
        "id": "SOjKzONqkTlS"
      },
      "execution_count": null,
      "outputs": []
    },
    {
      "cell_type": "markdown",
      "source": [
        "## Feature Importance:"
      ],
      "metadata": {
        "id": "HiZe0HVZlCSg"
      }
    },
    {
      "cell_type": "code",
      "source": [
        "importances = best_model.featureImportances"
      ],
      "metadata": {
        "id": "OKQsSQvdkATk"
      },
      "execution_count": null,
      "outputs": []
    },
    {
      "cell_type": "code",
      "source": [
        "x_values = list(range(len(importances)))"
      ],
      "metadata": {
        "id": "LGrRHCI9lIAX"
      },
      "execution_count": null,
      "outputs": []
    },
    {
      "cell_type": "code",
      "source": [
        "feature_list = list(['gender','PaymentMethod','InternetService','PhoneService','SeniorCitizen')"
      ],
      "metadata": {
        "id": "ieiHO6AElJBa"
      },
      "execution_count": null,
      "outputs": []
    },
    {
      "cell_type": "code",
      "source": [
        "\n",
        "plt.figure(figsize=[8,6])\n",
        "plt.bar(x_values, importances, orientation = 'vertical')\n",
        "plt.xticks(x_values, feature_list, rotation=40)\n",
        "plt.ylabel('Importance')\n",
        "plt.xlabel('Feature')\n",
        "plt.title('Feature Importances');"
      ],
      "metadata": {
        "id": "WlI15M8XlOFF"
      },
      "execution_count": null,
      "outputs": []
    }
  ]
}